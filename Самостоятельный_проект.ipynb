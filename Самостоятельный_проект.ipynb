{
  "cells": [
    {
      "cell_type": "markdown",
      "metadata": {
        "id": "view-in-github",
        "colab_type": "text"
      },
      "source": [
        "<a href=\"https://colab.research.google.com/github/k1kate/labs/blob/main/%D0%A1%D0%B0%D0%BC%D0%BE%D1%81%D1%82%D0%BE%D1%8F%D1%82%D0%B5%D0%BB%D1%8C%D0%BD%D1%8B%D0%B9_%D0%BF%D1%80%D0%BE%D0%B5%D0%BA%D1%82.ipynb\" target=\"_parent\"><img src=\"https://colab.research.google.com/assets/colab-badge.svg\" alt=\"Open In Colab\"/></a>"
      ]
    },
    {
      "cell_type": "markdown",
      "metadata": {
        "id": "lrrIwb87g7iR"
      },
      "source": [
        "# Добро пожаловать в самостоятельный проект\n",
        "\n",
        "Самостоятельный проект — это практическая проверка знаний, приобретённых вами на вводном курсе. Каждый раздел посвящён отдельной стадии анализа данных с экскурсом в основы Python.\n",
        "\n",
        "Проект выполняется в пять этапов:\n",
        "\n",
        "•\tПостановка задачи\n",
        "\n",
        "•\tПолучение данных\n",
        "\n",
        "•\tПредобработка данных\n",
        "\n",
        "•\tАнализ данных\n",
        "\n",
        "•\tОформление результатов\n",
        "\n",
        "Для каждой части описаны шаги выполнения c теоретическим приложением. В Jupyter Notebook эти шаги связаны между собой выводами и результатами.\n",
        "\n",
        "**Исследование: Музыка больших городов**\n",
        "\n",
        "Яндекс.Музыка — это крупный продукт с огромным запасом данных для исследований. Команды таких сервисов для поддержания интереса к продукту и привлечения новых пользователей часто проводят исследования про пользователей. Чтобы удержать клиентов и привлечь новых, сделать бренд более узнаваемым, команда сервиса проводит исследования аудитории, и публикует интересные результаты. Например, интересно сравнить тексты, сочинённые нейросетью, с произведениями настоящих рэперов.\n",
        "Есть исследование, которое напоминает наше: о музыкальных предпочтениях в разных городах России.\n",
        "Итак, вопрос вам: как музыка, которая звучит по дороге на работу в понедельник утром, отличается от той, что играет в среду или в конце рабочей недели? Возьмите данные для Москвы и Петербурга. Сравните, что и в каком режиме слушают их жители.\n",
        "\n",
        "План исследования\n",
        "\n",
        "1.\tПолучение данных. Прочитайте данные, ознакомьтесь с ними.\n",
        "\n",
        "2.\tПредобработка данных. Избавьтесь от дубликатов, проблем с названиями столбцов и пропусками.\n",
        "\n",
        "3.\tАнализ данных. Ответьте на основные вопросы исследования, подготовьте отчётную таблицу или опишите полученный результат.\n",
        "\n",
        "4.\tПодведение итогов. Просмотрите выполненную работу и сформулируйте выводы.\n"
      ]
    },
    {
      "cell_type": "markdown",
      "metadata": {
        "id": "ROICvHWfg7iU"
      },
      "source": [
        "# Этап 1. Получение данных\n",
        "\n",
        "Изучим данные, предоставленные сервисом для проекта.\n",
        "\n",
        "Прочитайте файл music_project.csv и сохраните его в переменной df.\n",
        "\n",
        "Получите  первых 10 строк таблицы, а также общую информацию о данных таблицы df."
      ]
    },
    {
      "cell_type": "code",
      "execution_count": 57,
      "metadata": {
        "colab": {
          "base_uri": "https://localhost:8080/"
        },
        "id": "3r-LB_fsg7iU",
        "outputId": "c1c876af-da80-4f31-808e-7fe77c295458"
      },
      "outputs": [
        {
          "output_type": "stream",
          "name": "stdout",
          "text": [
            "     userID                        Track            artist   genre  \\\n",
            "0  FFB692EC            Kamigata To Boots  The Mass Missile    rock   \n",
            "1  55204538  Delayed Because of Accident  Andreas Rönnberg    rock   \n",
            "2    20EC38            Funiculì funiculà       Mario Lanza     pop   \n",
            "3  A3DD03C9        Dragons in the Sunset        Fire + Ice    folk   \n",
            "4  E2DC1FAE                  Soul People        Space Echo   dance   \n",
            "5  842029A1                    Преданная         IMPERVTOR  rusrap   \n",
            "6  4CB90AA5                         True      Roman Messer   dance   \n",
            "7  F03E1C1F             Feeling This Way   Polina Griffith   dance   \n",
            "8  8FA1D3BE     И вновь продолжается бой               NaN  ruspop   \n",
            "9  E772D5C0                    Pessimist               NaN   dance   \n",
            "\n",
            "             City        time        Day  \n",
            "0  Saint-Petersburg  20:28:33  Wednesday  \n",
            "1            Moscow  14:07:09     Friday  \n",
            "2  Saint-Petersburg  20:58:07  Wednesday  \n",
            "3  Saint-Petersburg  08:37:09     Monday  \n",
            "4            Moscow  08:34:34     Monday  \n",
            "5  Saint-Petersburg  13:09:41     Friday  \n",
            "6            Moscow  13:00:07  Wednesday  \n",
            "7            Moscow  20:47:49  Wednesday  \n",
            "8            Moscow  09:17:40     Friday  \n",
            "9  Saint-Petersburg  21:20:49  Wednesday  \n",
            "(65079, 7)\n"
          ]
        }
      ],
      "source": [
        "# <чтение файла с данными с сохранением в df>\n",
        "# <получение первых 10 строк таблицы df>\n",
        "# <получение общей информации о данных в таблице df>\n",
        "\n",
        "import pandas as pd\n",
        "\n",
        "df = pd.read_csv('yandex_music.csv')\n",
        "\n",
        "print(df.head(10))\n",
        "print(df.shape)\n"
      ]
    },
    {
      "cell_type": "markdown",
      "metadata": {
        "id": "3CVESApcg7iV"
      },
      "source": [
        "Рассмотрим полученную информацию подробнее.\n",
        "Всего в таблице 7 столбцов, тип данных у каждого столбца - строка.\n",
        "Подробно разберём, какие в df столбцы и какую информацию они содержат:\n",
        "•\tuserID — идентификатор пользователя;\n",
        "•\tTrack — название трека;\n",
        "•\tartist — имя исполнителя;\n",
        "•\tgenre — название жанра;\n",
        "•\tCity — город, в котором происходило прослушивание;\n",
        "•\ttime — время, в которое пользователь слушал трек;\n",
        "•\tDay — день недели.\n",
        "Количество значений в столбцах различается. Это говорит о том, что в данных есть пропущенные значения.\n"
      ]
    },
    {
      "cell_type": "markdown",
      "metadata": {
        "id": "xxNVrddKg7iV"
      },
      "source": [
        "## Выводы:\n",
        "\n",
        "Каждая строка таблицы содержит информацию о композициях определённого жанра в определённом исполнении, которые пользователи слушали в одном из городов в определённое время и день недели. Две проблемы, которые нужно решать: пропуски и некачественные названия столбцов. Для проверки рабочих гипотез особенно ценны столбцы (*вставьте сюда названия столбцов, наиболее существенных, на ва взгляд*. Данные из столбца *название столбца*  позволят узнать самые популярные жанры."
      ]
    },
    {
      "cell_type": "markdown",
      "metadata": {
        "id": "V1R_AeZYg7iV"
      },
      "source": [
        "# Этап 2. Предобработка данных\n",
        "\n",
        "Исключим пропуски, переименуем столбцы, а также проверим данные на наличие дубликатов.\n",
        "\n",
        "Получаем перечень названий столбцов. Какая наблюдается проблема — кроме тех, что уже были названы ранее?\n"
      ]
    },
    {
      "cell_type": "code",
      "execution_count": 58,
      "metadata": {
        "colab": {
          "base_uri": "https://localhost:8080/"
        },
        "id": "oI6xD-Yfg7iW",
        "outputId": "f4cad77f-a690-4747-ad87-4bb4f279f43b"
      },
      "outputs": [
        {
          "output_type": "stream",
          "name": "stdout",
          "text": [
            "    user_id                   track_name       artist_name genre_name  \\\n",
            "0  FFB692EC            Kamigata To Boots  The Mass Missile       rock   \n",
            "1  55204538  Delayed Because of Accident  Andreas Rönnberg       rock   \n",
            "2    20EC38            Funiculì funiculà       Mario Lanza        pop   \n",
            "3  A3DD03C9        Dragons in the Sunset        Fire + Ice       folk   \n",
            "4  E2DC1FAE                  Soul People        Space Echo      dance   \n",
            "5  842029A1                    Преданная         IMPERVTOR     rusrap   \n",
            "6  4CB90AA5                         True      Roman Messer      dance   \n",
            "7  F03E1C1F             Feeling This Way   Polina Griffith      dance   \n",
            "8  8FA1D3BE     И вновь продолжается бой               NaN     ruspop   \n",
            "9  E772D5C0                    Pessimist               NaN      dance   \n",
            "\n",
            "               city      time        day  \n",
            "0  Saint-Petersburg  20:28:33  Wednesday  \n",
            "1            Moscow  14:07:09     Friday  \n",
            "2  Saint-Petersburg  20:58:07  Wednesday  \n",
            "3  Saint-Petersburg  08:37:09     Monday  \n",
            "4            Moscow  08:34:34     Monday  \n",
            "5  Saint-Petersburg  13:09:41     Friday  \n",
            "6            Moscow  13:00:07  Wednesday  \n",
            "7            Moscow  20:47:49  Wednesday  \n",
            "8            Moscow  09:17:40     Friday  \n",
            "9  Saint-Petersburg  21:20:49  Wednesday  \n"
          ]
        }
      ],
      "source": [
        "# <перечень названий столбцов таблицы df>\n",
        "\n",
        "new_names = ['user_id', 'track_name', 'artist_name','genre_name','city','time','day']\n",
        "df = df.set_axis(new_names, axis='columns')\n",
        "print(df.head(10))"
      ]
    },
    {
      "cell_type": "markdown",
      "metadata": {
        "id": "GgHjpffmg7iW"
      },
      "source": [
        "В названиях столбцов есть пробелы, которые могут затруднять доступ к данным.\n",
        "\n",
        "Переименуем столбцы для удобства дальнейшей работы. Проверим результат.\n"
      ]
    },
    {
      "cell_type": "code",
      "execution_count": 59,
      "metadata": {
        "colab": {
          "base_uri": "https://localhost:8080/"
        },
        "id": "n5JI57Yjg7iW",
        "outputId": "19de56d4-9e20-4828-c47a-ab92afbe02a2"
      },
      "outputs": [
        {
          "output_type": "stream",
          "name": "stdout",
          "text": [
            "Index(['user_id', 'track_name', 'artist_name', 'genre_name', 'city', 'time',\n",
            "       'day'],\n",
            "      dtype='object')\n"
          ]
        }
      ],
      "source": [
        "# <переименование столбцов>\n",
        "# <проверка результатов - перечень названий столбцов>\n",
        "print(df.columns)"
      ]
    },
    {
      "cell_type": "markdown",
      "metadata": {
        "id": "iDizIDt6g7iX"
      },
      "source": [
        "Проверим данные на наличие пропусков вызовом набора методов для суммирования пропущенных значений."
      ]
    },
    {
      "cell_type": "code",
      "execution_count": 60,
      "metadata": {
        "colab": {
          "base_uri": "https://localhost:8080/"
        },
        "id": "3LEpVnwtg7iX",
        "outputId": "c2c5be55-4db6-4d87-b3d8-6b8239ef4b21"
      },
      "outputs": [
        {
          "output_type": "stream",
          "name": "stdout",
          "text": [
            "user_id           0\n",
            "track_name     1231\n",
            "artist_name    7203\n",
            "genre_name     1198\n",
            "city              0\n",
            "time              0\n",
            "day               0\n",
            "dtype: int64\n"
          ]
        }
      ],
      "source": [
        "# <суммарное количество пропусков, выявленных методом isnull() в таблице df>\n",
        "print(df.isnull().sum())"
      ]
    },
    {
      "cell_type": "markdown",
      "metadata": {
        "id": "OqxmwyI-g7iX"
      },
      "source": [
        "Пустые значения свидетельствуют, что для некоторых треков доступна не вся информация. Причины могут быть разные: скажем, не назван конкретный исполнитель народной песни. Хуже, если проблемы с записью данных. Каждый отдельный случай необходимо разобрать и выявить причину.\n",
        "\n",
        "Заменяем пропущенные значения в столбцах с названием трека и исполнителя на строку 'unknown'. После этой операции нужно убедиться, что таблица больше не содержит пропусков.\n"
      ]
    },
    {
      "cell_type": "code",
      "execution_count": 61,
      "metadata": {
        "id": "hHdHkzIlg7iX"
      },
      "outputs": [],
      "source": [
        "# <замена пропущенных значений в столбце 'track_name' на строку 'unknown' специальным методом замены>\n",
        "df['track_name']=df['track_name'].fillna('unknown')\n",
        "# <замена пропущенных значений в столбце 'artist_name' на строку 'unknown' специальным методом замены>\n",
        "df['artist_name']=df['artist_name'].fillna('unknown')"
      ]
    },
    {
      "cell_type": "code",
      "execution_count": 62,
      "metadata": {
        "colab": {
          "base_uri": "https://localhost:8080/"
        },
        "id": "tmHzaPWjg7iY",
        "outputId": "7c122ae1-acc0-448a-ae1f-bcf895393dbb"
      },
      "outputs": [
        {
          "output_type": "stream",
          "name": "stdout",
          "text": [
            "user_id           0\n",
            "track_name        0\n",
            "artist_name       0\n",
            "genre_name     1198\n",
            "city              0\n",
            "time              0\n",
            "day               0\n",
            "dtype: int64\n"
          ]
        }
      ],
      "source": [
        "print(df.isnull().sum())"
      ]
    },
    {
      "cell_type": "markdown",
      "metadata": {
        "id": "VameEDNVg7iY"
      },
      "source": [
        "Удаляем в столбце с жанрами пустые значения; убеждаемся, что их больше не осталось."
      ]
    },
    {
      "cell_type": "code",
      "execution_count": 63,
      "metadata": {
        "colab": {
          "base_uri": "https://localhost:8080/"
        },
        "id": "II2g2R2og7iY",
        "outputId": "57dfcf25-b24d-4f6a-ad93-3c5aa0cb117c"
      },
      "outputs": [
        {
          "output_type": "stream",
          "name": "stdout",
          "text": [
            "user_id        0\n",
            "track_name     0\n",
            "artist_name    0\n",
            "genre_name     0\n",
            "city           0\n",
            "time           0\n",
            "day            0\n",
            "dtype: int64\n"
          ]
        }
      ],
      "source": [
        "# <удаление пропущенных значений в столбце 'genre_name'>\n",
        "df.dropna(subset=['genre_name'], inplace=True)\n",
        "# <проверка>\n",
        "print(df.isnull().sum())"
      ]
    },
    {
      "cell_type": "markdown",
      "metadata": {
        "id": "dPqms2CAg7iY"
      },
      "source": [
        "Необходимо установить наличие дубликатов. Если найдутся, удаляем, и проверяем, все ли удалились."
      ]
    },
    {
      "cell_type": "code",
      "execution_count": 64,
      "metadata": {
        "colab": {
          "base_uri": "https://localhost:8080/"
        },
        "id": "F1We51ikg7iY",
        "outputId": "4698ff86-bb7c-4f72-b208-63b26230135e"
      },
      "outputs": [
        {
          "output_type": "stream",
          "name": "stdout",
          "text": [
            "3755\n",
            "0\n"
          ]
        }
      ],
      "source": [
        "# <получение суммарного количества дубликатов в таблице df>\n",
        "print(df.duplicated().sum())\n",
        "# <удаление всех дубликатов из таблицы df специальным методом>\n",
        "df.drop_duplicates(inplace=True)\n",
        "# <проверка на отсутствие>\n",
        "print(df.duplicated().sum())"
      ]
    },
    {
      "cell_type": "markdown",
      "metadata": {
        "id": "Sr4kwH-ng7iZ"
      },
      "source": [
        "Дубликаты могли появиться вследствие сбоя в записи данных. Стоит обратить внимание и разобраться с причинами появления такого «информационного мусора».\n",
        "\n",
        "Сохраняем список уникальных значений столбца с жанрами в переменной genres_list.\n",
        "\n",
        "Объявим функцию find_genre() для поиска неявных дубликатов в столбце с жанрами. Например, когда название одного и того же жанра написано разными словами.\n"
      ]
    },
    {
      "cell_type": "code",
      "execution_count": 65,
      "metadata": {
        "colab": {
          "base_uri": "https://localhost:8080/"
        },
        "id": "4c5cqHf9g7iZ",
        "outputId": "cbf122e9-9645-41f5-8dd3-dddcd04dda24"
      },
      "outputs": [
        {
          "output_type": "stream",
          "name": "stdout",
          "text": [
            "['rock' 'pop' 'folk' 'dance' 'rusrap' 'ruspop' 'world' 'electronic'\n",
            " 'alternative' 'children' 'rnb' 'hip' 'jazz' 'postrock' 'latin'\n",
            " 'classical' 'metal' 'reggae' 'tatar' 'blues' 'instrumental' 'rusrock'\n",
            " 'dnb' 'türk' 'post' 'country' 'psychedelic' 'conjazz' 'indie'\n",
            " 'posthardcore' 'local' 'avantgarde' 'punk' 'videogame' 'techno' 'house'\n",
            " 'christmas' 'melodic' 'caucasian' 'reggaeton' 'soundtrack' 'singer' 'ska'\n",
            " 'shanson' 'ambient' 'film' 'western' 'rap' 'beats' \"hard'n'heavy\"\n",
            " 'progmetal' 'minimal' 'contemporary' 'new' 'soul' 'holiday' 'german'\n",
            " 'tropical' 'fairytail' 'spiritual' 'urban' 'gospel' 'nujazz' 'folkmetal'\n",
            " 'trance' 'miscellaneous' 'anime' 'hardcore' 'progressive' 'chanson'\n",
            " 'numetal' 'vocal' 'estrada' 'russian' 'classicmetal' 'dubstep' 'club'\n",
            " 'deep' 'southern' 'black' 'folkrock' 'fitness' 'french' 'disco'\n",
            " 'religious' 'hiphop' 'drum' 'extrememetal' 'türkçe' 'experimental' 'easy'\n",
            " 'metalcore' 'modern' 'argentinetango' 'old' 'breaks' 'eurofolk'\n",
            " 'stonerrock' 'industrial' 'funk' 'jpop' 'middle' 'variété' 'other'\n",
            " 'adult' 'christian' 'gothic' 'international' 'muslim' 'relax' 'schlager'\n",
            " 'caribbean' 'ukrrock' 'nu' 'breakbeat' 'comedy' 'chill' 'newage'\n",
            " 'specialty' 'uzbek' 'k-pop' 'balkan' 'chinese' 'meditative' 'dub' 'power'\n",
            " 'death' 'grime' 'arabesk' 'romance' 'flamenco' 'leftfield' 'european'\n",
            " 'tech' 'newwave' 'dancehall' 'mpb' 'piano' 'top' 'bigroom' 'opera'\n",
            " 'celtic' 'tradjazz' 'acoustic' 'epicmetal' 'hip-hop' 'historisch'\n",
            " 'downbeat' 'downtempo' 'africa' 'audiobook' 'jewish' 'sängerportrait'\n",
            " 'deutschrock' 'eastern' 'action' 'future' 'electropop' 'folklore'\n",
            " 'bollywood' 'marschmusik' 'rnr' 'karaoke' 'indian' 'rancheras'\n",
            " 'электроника' 'afrikaans' 'tango' 'rhythm' 'sound' 'deutschspr' 'trip'\n",
            " 'lovers' 'choral' 'dancepop' 'podcasts' 'retro' 'smooth' 'mexican'\n",
            " 'brazilian' 'ïîï' 'mood' 'surf' 'author' 'gangsta' 'triphop'\n",
            " 'inspirational' 'idm' 'ethnic' 'bluegrass' 'broadway' 'animated'\n",
            " 'americana' 'karadeniz' 'rockabilly' 'colombian' 'self' 'hop' 'synthrock'\n",
            " 'sertanejo' 'japanese' 'canzone' 'swing' 'lounge' 'sport' 'korean'\n",
            " 'ragga' 'traditional' 'gitarre' 'frankreich' 'alternativepunk' 'emo'\n",
            " 'laiko' 'cantopop' 'glitch' 'documentary' 'rockalternative' 'thrash'\n",
            " 'hymn' 'oceania' 'rockother' 'popeurodance' 'dark' 'vi' 'grunge'\n",
            " 'hardstyle' 'samba' 'garage' 'soft' 'art' 'folktronica' 'entehno'\n",
            " 'mediterranean' 'chamber' 'cuban' 'taraftar' 'rockindie' 'gypsy'\n",
            " 'hardtechno' 'shoegazing' 'skarock' 'bossa' 'salsa' 'latino' 'worldbeat'\n",
            " 'malaysian' 'baile' 'ghazal' 'loungeelectronic' 'arabic' 'popelectronic'\n",
            " 'acid' 'kayokyoku' 'neoklassik' 'tribal' 'tanzorchester' 'native'\n",
            " 'independent' 'cantautori' 'handsup' 'poprussian' 'punjabi' 'synthpop'\n",
            " 'rave' 'französisch' 'quebecois' 'speech' 'soulful' 'teen' 'jam' 'ram'\n",
            " 'horror' 'scenic' 'orchestral' 'neue' 'roots' 'slow' 'jungle' 'indipop'\n",
            " 'axé' 'fado' 'showtunes' 'arena' 'irish' 'mandopop' 'forró' 'popdance'\n",
            " 'dirty' 'regional']\n"
          ]
        }
      ],
      "source": [
        "# <сохранение в переменной genres_list списка уникальных значений,\n",
        "# выявленных специальным методом в столбце 'genre_name'>\n",
        "genres_list = df['genre_name'].unique()\n",
        "print(genres_list)"
      ]
    },
    {
      "cell_type": "code",
      "execution_count": 66,
      "metadata": {
        "id": "Y02qAyzRg7iZ"
      },
      "outputs": [],
      "source": [
        "# <создание функции find_genre()>\n",
        "# функция принимает как параметр строку с названием искомого жанра\n",
        "# в теле объявляется переменная-счётчик, ей присваивается значение 0,\n",
        "# затем цикл for проходит по списку уникальных значений\n",
        "# если очередной элемент списка равен параметру функции,\n",
        "# то значение счётчика увеличивается на 1\n",
        "# по окончании работы цикла функция возвращает значение счётчика\n",
        "\n",
        "def find_genre(name):\n",
        "  count = 0\n",
        "  for i in genres_list:\n",
        "    if i == name:\n",
        "      count+=1\n",
        "  return count\n",
        "\n"
      ]
    },
    {
      "cell_type": "markdown",
      "metadata": {
        "id": "39qZvWQbg7iZ"
      },
      "source": [
        "Вызов функции find_genre() для поиска различных вариантов названия жанра хип-хоп в таблице.\n",
        "\n",
        "Правильное название — hiphop. Поищем другие варианты:\n",
        "\n",
        "•\thip\n",
        "\n",
        "•\thop\n",
        "\n",
        "•\thip-hop\n"
      ]
    },
    {
      "cell_type": "code",
      "execution_count": 67,
      "metadata": {
        "colab": {
          "base_uri": "https://localhost:8080/"
        },
        "id": "JQSooklVg7iZ",
        "outputId": "cb00b380-177f-417a-be44-6eda9a061f6a"
      },
      "outputs": [
        {
          "output_type": "stream",
          "name": "stdout",
          "text": [
            "1\n"
          ]
        }
      ],
      "source": [
        "# <вызовом функции find_genre() проверяется наличие варианта 'hip'>\n",
        "print(find_genre('hip'))"
      ]
    },
    {
      "cell_type": "code",
      "execution_count": 68,
      "metadata": {
        "colab": {
          "base_uri": "https://localhost:8080/"
        },
        "id": "2vZp-JHRg7iZ",
        "outputId": "a493ab6c-7f6d-4060-bf4d-f2ea1237beed"
      },
      "outputs": [
        {
          "output_type": "stream",
          "name": "stdout",
          "text": [
            "1\n"
          ]
        }
      ],
      "source": [
        "# <проверяется наличие варианта 'hop'>\n",
        "print(find_genre('hop'))"
      ]
    },
    {
      "cell_type": "code",
      "execution_count": 69,
      "metadata": {
        "colab": {
          "base_uri": "https://localhost:8080/"
        },
        "id": "6WqJsACng7iZ",
        "outputId": "4bda224f-d27f-4e37-f2dd-24e8c4f3ce29"
      },
      "outputs": [
        {
          "output_type": "stream",
          "name": "stdout",
          "text": [
            "1\n"
          ]
        }
      ],
      "source": [
        "# <проверяется наличие варианта 'hip-hop'>\n",
        "print(find_genre('hip-hop'))"
      ]
    },
    {
      "cell_type": "markdown",
      "metadata": {
        "id": "0ddIVkcpg7ia"
      },
      "source": [
        "Объявим функцию find_hip_hop(), которая заменяет неправильное название этого жанра в столбце 'genre_name' на 'hiphop' и проверяет успешность выполнения замены.\n",
        "\n",
        "Так исправляем все варианты написания, которые выявила проверка.\n"
      ]
    },
    {
      "cell_type": "code",
      "execution_count": 70,
      "metadata": {
        "id": "Ejzw-0j9g7ia"
      },
      "outputs": [],
      "source": [
        "# <создание функции find_hip_hop()>\n",
        "# функция принимает как параметры таблицу df и неверное название\n",
        "# к столбцу 'genre_name' применяется специальный метод,\n",
        "# который заменяет второй параметр на строку 'hiphop'\n",
        "# результат работы равен подсчитанному методом count() числу\n",
        "#значений столбца,\n",
        "# которые равны второму параметру\n",
        "# функция возвращает результат\n",
        "\n",
        "def find_hip_hop(df, name):\n",
        "  df['genre_name'] = df['genre_name'].replace(name, 'hiphop')\n",
        "  return (df['genre_name']=='hiphop').sum()\n"
      ]
    },
    {
      "cell_type": "code",
      "execution_count": 71,
      "metadata": {
        "colab": {
          "base_uri": "https://localhost:8080/"
        },
        "id": "nFHuwyHEg7ia",
        "outputId": "89fbb375-57bd-4191-f399-44050d5d5f98"
      },
      "outputs": [
        {
          "output_type": "stream",
          "name": "stdout",
          "text": [
            "3054\n",
            "3055\n",
            "3056\n"
          ]
        }
      ],
      "source": [
        "# <замена одного неверного варианта на hiphop вызовом функции find_hip_hop()>\n",
        "print(find_hip_hop(df, 'hip'))\n",
        "print(find_hip_hop(df, 'hop'))\n",
        "print(find_hip_hop(df, 'hip-hop'))"
      ]
    },
    {
      "cell_type": "markdown",
      "metadata": {
        "id": "XuKx4vyyg7ia"
      },
      "source": [
        "Получаем общую информацию о данных. Убеждаемся, что чистка выполнена успешно."
      ]
    },
    {
      "cell_type": "code",
      "execution_count": 72,
      "metadata": {
        "colab": {
          "base_uri": "https://localhost:8080/"
        },
        "id": "w1nxGgv-g7ib",
        "outputId": "fd26a42f-a35e-48c8-d021-50bb37da2c56"
      },
      "outputs": [
        {
          "output_type": "stream",
          "name": "stdout",
          "text": [
            "(60126, 7)\n"
          ]
        }
      ],
      "source": [
        "# <получение общей информации о данных таблицы df>\n",
        "print(df.shape)\n"
      ]
    },
    {
      "cell_type": "markdown",
      "metadata": {
        "id": "QLtprYLWg7ib"
      },
      "source": [
        "## Вывод\n",
        "\n",
        "На этапе предобработки в данных обнаружились не только пропуски и проблемы с названиями столбцов, но и всяческие виды дубликатов. Их удаление позволит провести анализ точнее. Поскольку сведения о жанрах важно сохранить для анализа, не просто удаляем все пропущенные значения, но заполним пропущенные имена исполнителей и названия треков. Имена столбцов теперь корректны и удобны для дальнейшей работы.\n"
      ]
    },
    {
      "cell_type": "markdown",
      "metadata": {
        "id": "57TaGzBdg7ic"
      },
      "source": [
        "# Действительно ли музыку в разных городах слушают по-разному?\n",
        "\n",
        "Была выдвинута гипотеза, что в Москве и Санкт-Петербурге пользователи слушают музыку по-разному. Проверяем это предположение по данным о трёх днях недели — понедельнике, среде и пятнице.\n",
        "\n",
        "Для каждого города устанавливаем количество прослушанных в эти дни композиций с известным жанром, и сравниваем результаты.\n",
        "Группируем данные по городу и вызовом метода count() подсчитываем композиции, для которых известен жанр.\n"
      ]
    },
    {
      "cell_type": "code",
      "execution_count": 76,
      "metadata": {
        "colab": {
          "base_uri": "https://localhost:8080/"
        },
        "id": "KYIOHXwzg7ic",
        "outputId": "79e9a6b7-716e-4016-e5b3-a885ccb8e649"
      },
      "outputs": [
        {
          "output_type": "stream",
          "name": "stdout",
          "text": [
            "city\n",
            "Moscow              41892\n",
            "Saint-Petersburg    18234\n",
            "Name: genre_name, dtype: int64\n"
          ]
        }
      ],
      "source": [
        "# <группировка данных таблицы df по столбцу 'city' и подсчёт количества значений столбца 'genre_name'>\n",
        "# df = df.groupby(['city'])['genre_name'].count()\n",
        "\n",
        "df_genre = df.groupby(['city'])['genre_name'].count()\n",
        "print(df_genre)"
      ]
    },
    {
      "cell_type": "markdown",
      "metadata": {
        "id": "OI1Oy7Cxg7ic"
      },
      "source": [
        "В москве прослушиваний больше, чем в спб, но это не значит, что москве более активна. У Яндекс.Музыки в целом больше пользователей в Москве, поэтому величины сопоставимы.\n",
        "Сгруппируем данные по дню недели и подсчитаем прослушанные в понедельник, среду и пятницу композиции, для которых известен жанр.\n"
      ]
    },
    {
      "cell_type": "code",
      "execution_count": 78,
      "metadata": {
        "colab": {
          "base_uri": "https://localhost:8080/"
        },
        "id": "cw2ijfxWg7ic",
        "outputId": "2dbacc09-12fd-4fb4-cc04-9d45db9a081f"
      },
      "outputs": [
        {
          "output_type": "stream",
          "name": "stdout",
          "text": [
            "day\n",
            "Friday       21482\n",
            "Monday       20866\n",
            "Wednesday    17778\n",
            "Name: genre_name, dtype: int64\n"
          ]
        }
      ],
      "source": [
        "# <группировка данных по столбцу 'weekday' и подсчёт количества значений столбца 'genre_name'>\n",
        "df_day = df.groupby(['day'])['genre_name'].count()\n",
        "print(df_day)"
      ]
    },
    {
      "cell_type": "markdown",
      "metadata": {
        "id": "G7hjqABxg7id"
      },
      "source": [
        "Понедельник и пятница — время для музыки; по средам пользователи немного больше вовлечены в работу.\n",
        "\n",
        "Создаём функцию number_tracks(), которая принимает как параметры таблицу, день недели и название города, а возвращает количество прослушанных композиций, для которых известен жанр. Проверяем количество прослушанных композиций для каждого города и понедельника, затем среды и пятницы.\n"
      ]
    },
    {
      "cell_type": "code",
      "execution_count": 84,
      "metadata": {
        "id": "qGJrWnSPg7id"
      },
      "outputs": [],
      "source": [
        "# <создание функции number_tracks()>\n",
        "# объявляется функция с тремя параметрами: df, day, city\n",
        "# в переменной track_list сохраняются те строки таблицы df, для которых\n",
        "# значение в столбце 'weekday' равно параметру day\n",
        "# и одновременно значение в столбце 'city' равно параметру city\n",
        "# в переменной track_list_count сохраняется число значений столбца 'genre_name',\n",
        "# рассчитанное методом count() для таблицы track_list\n",
        "# функция возвращает значение track_list_count\n",
        "\n",
        "def number_tracks(df, day, city):\n",
        "  track_list = df[(df['day'] == day) & (df['city'] == city)]\n",
        "  track_list_count = track_list['genre_name'].count()\n",
        "\n",
        "  return track_list_count\n",
        "\n"
      ]
    },
    {
      "cell_type": "code",
      "execution_count": 85,
      "metadata": {
        "colab": {
          "base_uri": "https://localhost:8080/"
        },
        "id": "5vPRd5Bug7id",
        "outputId": "8c8737e2-8dbf-4659-9e4d-3e875e81ad35"
      },
      "outputs": [
        {
          "output_type": "stream",
          "name": "stdout",
          "text": [
            "15347\n"
          ]
        }
      ],
      "source": [
        "# <список композиций для Москвы в понедельник>\n",
        "print(number_tracks(df, 'Monday', 'Moscow'))"
      ]
    },
    {
      "cell_type": "code",
      "execution_count": 86,
      "metadata": {
        "colab": {
          "base_uri": "https://localhost:8080/"
        },
        "id": "mOXnUllEg7id",
        "outputId": "5d40d0ac-fa46-4fc7-f111-081490b4d141"
      },
      "outputs": [
        {
          "output_type": "stream",
          "name": "stdout",
          "text": [
            "5519\n"
          ]
        }
      ],
      "source": [
        "# <список композиций для Санкт-Петербурга в понедельник>\n",
        "print(number_tracks(df, 'Monday', 'Saint-Petersburg'))"
      ]
    },
    {
      "cell_type": "code",
      "execution_count": 87,
      "metadata": {
        "colab": {
          "base_uri": "https://localhost:8080/"
        },
        "id": "Fl4RxmrVg7ii",
        "outputId": "766a28e7-cfbd-48c8-8b56-dc40d48f9a51"
      },
      "outputs": [
        {
          "output_type": "stream",
          "name": "stdout",
          "text": [
            "10865\n"
          ]
        }
      ],
      "source": [
        "# <список композиций для Москвы в среду>\n",
        "print(number_tracks(df, 'Wednesday', 'Moscow'))"
      ]
    },
    {
      "cell_type": "code",
      "execution_count": 88,
      "metadata": {
        "colab": {
          "base_uri": "https://localhost:8080/"
        },
        "id": "gs6SuJhpg7ii",
        "outputId": "f49158a1-7eac-4c05-c339-7cf2618799e2"
      },
      "outputs": [
        {
          "output_type": "stream",
          "name": "stdout",
          "text": [
            "6913\n"
          ]
        }
      ],
      "source": [
        "# <список композиций для Санкт-Петербурга в среду>\n",
        "print(number_tracks(df, 'Wednesday', 'Saint-Petersburg'))"
      ]
    },
    {
      "cell_type": "code",
      "execution_count": 89,
      "metadata": {
        "colab": {
          "base_uri": "https://localhost:8080/"
        },
        "id": "LmppK3FMg7ii",
        "outputId": "96a69c3e-0590-4265-fcd2-e88b81f10db1"
      },
      "outputs": [
        {
          "output_type": "stream",
          "name": "stdout",
          "text": [
            "15680\n"
          ]
        }
      ],
      "source": [
        "# <список композиций для Москвы в пятницу>\n",
        "print(number_tracks(df, 'Friday', 'Moscow'))"
      ]
    },
    {
      "cell_type": "code",
      "execution_count": 90,
      "metadata": {
        "colab": {
          "base_uri": "https://localhost:8080/"
        },
        "id": "ACksz_Pug7ii",
        "outputId": "80ed41ef-1be5-4085-fb07-3ef3a2b635be"
      },
      "outputs": [
        {
          "output_type": "stream",
          "name": "stdout",
          "text": [
            "5802\n"
          ]
        }
      ],
      "source": [
        "# <список композиций для Санкт-Петербурга в пятницу>\n",
        "print(number_tracks(df, 'Friday', 'Saint-Petersburg'))"
      ]
    },
    {
      "cell_type": "markdown",
      "metadata": {
        "id": "lDKRFh_lg7ii"
      },
      "source": [
        "Сведём полученную информацию в одну таблицу, где ['city', 'monday', 'wednesday', 'friday'] названия столбцов."
      ]
    },
    {
      "cell_type": "code",
      "execution_count": 91,
      "metadata": {
        "colab": {
          "base_uri": "https://localhost:8080/"
        },
        "id": "0JjoJMRxg7ij",
        "outputId": "12a8893c-8027-43e4-aed1-29295835c083"
      },
      "outputs": [
        {
          "output_type": "stream",
          "name": "stdout",
          "text": [
            "               city  monday  wednesday  friday\n",
            "0            Moscow   15347      10865   15680\n",
            "1  Saint-Petersburg    5519       6913    5802\n"
          ]
        }
      ],
      "source": [
        "# <таблица с полученными данными>\n",
        "data = {\n",
        "    'city': ['Moscow', 'Saint-Petersburg'],\n",
        "    'monday': [number_tracks(df, 'Monday', 'Moscow'), number_tracks(df, 'Monday', 'Saint-Petersburg')],\n",
        "    'wednesday': [number_tracks(df, 'Wednesday', 'Moscow'), number_tracks(df, 'Wednesday', 'Saint-Petersburg')],\n",
        "    'friday': [number_tracks(df, 'Friday', 'Moscow'), number_tracks(df, 'Friday', 'Saint-Petersburg')]\n",
        "}\n",
        "\n",
        "table = pd.DataFrame(data)\n",
        "print(table)"
      ]
    },
    {
      "cell_type": "markdown",
      "metadata": {
        "id": "6rzJiw9Fg7ij"
      },
      "source": [
        "## Вывод\n",
        "\n",
        "*Запишите здесь ваши выводы.Опишите закономерности, которые вы наблюдаете по дням недели и городам*\n",
        "\n",
        "москва:\n",
        "в москве больше всего слушают музыку. больше всего в пятницу и в понедельник.\n",
        "\n",
        "спб:\n",
        "в среду больше всего слушают музыку"
      ]
    },
    {
      "cell_type": "markdown",
      "metadata": {
        "id": "cHxTgXlcg7ij"
      },
      "source": [
        "# Утро понедельника и вечер пятницы — разная музыка или одна и та же?\n",
        "\n",
        "Ищем ответ на вопрос, какие жанры преобладают в разных городах в понедельник утром и в пятницу вечером. Есть предположение, что в понедельник утром пользователи слушают больше бодрящей музыки (например, жанра поп), а вечером пятницы — больше танцевальных (например, электронику).\n",
        "Получим таблицы данных по Москве moscow_general и по Санкт-Петербургу spb_general.\n"
      ]
    },
    {
      "cell_type": "code",
      "execution_count": 107,
      "metadata": {
        "id": "nqv7SZ8vg7ij"
      },
      "outputs": [],
      "source": [
        "# получение таблицы moscow_general из тех строк таблицы df,\n",
        "# для которых значение в столбце 'city' равно 'Moscow'\n",
        "# <получение таблицы spb_general>\n",
        "df['time_hour'] = df.apply(lambda row: int(row['time'][:2]), axis=1) #для сравнения\n",
        "moscow_general = df[df['city'] == 'Moscow']\n",
        "spb_general = df[df['city'] == 'Saint-Petersburg']\n"
      ]
    },
    {
      "cell_type": "markdown",
      "metadata": {
        "id": "PWbg9liWg7ij"
      },
      "source": [
        "Создаём функцию genre_weekday(), которая возвращает список жанров по запрошенному дню недели и времени суток с такого-то часа по такой-то."
      ]
    },
    {
      "cell_type": "code",
      "execution_count": 110,
      "metadata": {
        "id": "JEwMfho4g7ij"
      },
      "outputs": [],
      "source": [
        "# объявление функции genre_weekday() с параметрами df, day, time1, time2\n",
        "# в переменной genre_list сохраняются те строки df, для которых одновременно:\n",
        "# 1) значение в столбце 'weekday' равно параметру day,\n",
        "# 2) значение в столбце 'time' больше time1 и\n",
        "# 3) меньше time2.\n",
        "# в переменной genre_list_sorted сохраняются в порядке убывания\n",
        "# первые 10 значений Series, полученной подсчётом числа значений 'genre_name'\n",
        "# сгруппированной по столбцу 'genre_name' таблицы genre_list\n",
        "# функция возвращает значение genre_list_sorted\n",
        "\n",
        "\n",
        "def genre_weekday(df, day, time1, time2):\n",
        "  genre_list = df[(df['day'] == day) & (df['time_hour'] > time1) & (df['time_hour'] < time2)]\n",
        "  genre_list_sorted = genre_list.groupby(['genre_name'])['genre_name'].count().sort_values(ascending=False)\n",
        "  return genre_list_sorted.head(10)\n"
      ]
    },
    {
      "cell_type": "markdown",
      "metadata": {
        "id": "RzkxYSAkg7ik"
      },
      "source": [
        "Cравниваем полученные результаты по таблице для Москвы и Санкт-Петербурга в понедельник утром (с 7 до 11) и в пятницу вечером (с 17 до 23)."
      ]
    },
    {
      "cell_type": "code",
      "execution_count": 112,
      "metadata": {
        "colab": {
          "base_uri": "https://localhost:8080/"
        },
        "id": "OiSxjhgeg7ik",
        "outputId": "4ab2a594-3ebb-4576-bd2f-70dab4283e56"
      },
      "outputs": [
        {
          "output_type": "stream",
          "name": "stdout",
          "text": [
            "genre_name\n",
            "pop            781\n",
            "dance          549\n",
            "electronic     480\n",
            "rock           474\n",
            "hiphop         286\n",
            "ruspop         186\n",
            "world          181\n",
            "rusrap         175\n",
            "alternative    164\n",
            "classical      157\n",
            "Name: genre_name, dtype: int64\n"
          ]
        }
      ],
      "source": [
        "# <вызов функции для утра понедельника в Москве (вместо df таблица moscow_general)>\n",
        "\n",
        "print(genre_weekday(moscow_general, 'Monday', 7, 11))"
      ]
    },
    {
      "cell_type": "code",
      "execution_count": 113,
      "metadata": {
        "colab": {
          "base_uri": "https://localhost:8080/"
        },
        "id": "3dGzOb3ug7ik",
        "outputId": "6dc035a4-09f8-455e-917f-7bda5a790e0e"
      },
      "outputs": [
        {
          "output_type": "stream",
          "name": "stdout",
          "text": [
            "genre_name\n",
            "pop            218\n",
            "dance          182\n",
            "rock           162\n",
            "electronic     147\n",
            "hiphop          80\n",
            "ruspop          64\n",
            "alternative     58\n",
            "rusrap          55\n",
            "jazz            44\n",
            "classical       40\n",
            "Name: genre_name, dtype: int64\n"
          ]
        }
      ],
      "source": [
        "# <вызов функции для утра понедельника в Петербурге (вместо df таблица spb_general)>\n",
        "print(genre_weekday(spb_general, 'Monday', 7, 11))"
      ]
    },
    {
      "cell_type": "code",
      "execution_count": 114,
      "metadata": {
        "colab": {
          "base_uri": "https://localhost:8080/"
        },
        "id": "W5i_ycJHg7ik",
        "outputId": "ff8b80af-26e6-4aee-b67d-4f2c41d6a354"
      },
      "outputs": [
        {
          "output_type": "stream",
          "name": "stdout",
          "text": [
            "genre_name\n",
            "pop            713\n",
            "rock           517\n",
            "dance          495\n",
            "electronic     482\n",
            "hiphop         273\n",
            "world          208\n",
            "ruspop         170\n",
            "alternative    163\n",
            "classical      163\n",
            "rusrap         142\n",
            "Name: genre_name, dtype: int64\n"
          ]
        }
      ],
      "source": [
        "# <вызов функции для вечера пятницы в Москве>\n",
        "print(genre_weekday(moscow_general, 'Friday', 17, 23))"
      ]
    },
    {
      "cell_type": "code",
      "execution_count": 115,
      "metadata": {
        "colab": {
          "base_uri": "https://localhost:8080/"
        },
        "id": "GK-ZwSYjg7il",
        "outputId": "c3b54033-6425-4fa0-facd-12219eff6b9e"
      },
      "outputs": [
        {
          "output_type": "stream",
          "name": "stdout",
          "text": [
            "genre_name\n",
            "pop            256\n",
            "rock           216\n",
            "electronic     216\n",
            "dance          210\n",
            "hiphop          97\n",
            "alternative     63\n",
            "jazz            61\n",
            "classical       60\n",
            "rusrap          59\n",
            "world           54\n",
            "Name: genre_name, dtype: int64\n"
          ]
        }
      ],
      "source": [
        "# <вызов функции для вечера пятницы в Питере>\n",
        "print(genre_weekday(spb_general, 'Friday', 17, 23))"
      ]
    },
    {
      "cell_type": "markdown",
      "metadata": {
        "id": "XzK4tNJqg7il"
      },
      "source": [
        "Популярные жанры в понедельник утром в Питере и Москве оказались похожи: везде, как и предполагалось, популярен pop. Несмотря на это, концовка топ-10 для двух городов различается: в Питере в топ-10 входит джаз и русский рэп, а в Москве жанр world.\n",
        "\n",
        "*(Опишите здесь, меняется ли ситуация в музыкальными предпочтениями в конце недели, заметна ли разница в концовке ТОП-10)*\n",
        "\n",
        "в конце недели наравне с попом любят слушаить рок\n",
        "\n",
        "## Вывод\n",
        "Жанр pop безусловный лидер, а топ-5 в целом не различается в обеих столицах. При этом видно, что концовка списка более «живая»: для каждого города выделяются более характерные жанры, которые действительно меняют свои позиции в зависимости от дня недели и времени.\n"
      ]
    },
    {
      "cell_type": "markdown",
      "metadata": {
        "id": "Azdya9L7g7il"
      },
      "source": [
        "# Москва и Питер — две разные столицы, два разных направления в музыке. Правда?\n",
        "\n",
        "Гипотеза: Питер богат своей рэп-культурой, поэтому это направление там слушают чаще, а Москва — город контрастов, но основная масса пользователей слушает попсу.\n",
        "\n",
        "Сгруппируем таблицу moscow_general по жанру, сосчитаем численность композиций каждого жанра методом count(), отсортируем в порядке убывания и сохраним результат в таблице moscow_genres.\n",
        "\n",
        "Просмотрим первые 10 строк этой новой таблицы.\n"
      ]
    },
    {
      "cell_type": "code",
      "execution_count": 116,
      "metadata": {
        "id": "PL5g4Jaag7il"
      },
      "outputs": [],
      "source": [
        "# одной строкой: группировка таблицы moscow_general по столбцу 'genre_name',\n",
        "# подсчёт числа значений 'genre_name' в этой группировке методом count(),\n",
        "# сортировка Series в порядке убывания и сохранение в moscow_genres\n",
        "moscow_genres = moscow_general.groupby(['genre_name'])['genre_name'].count().sort_values(ascending=False)"
      ]
    },
    {
      "cell_type": "code",
      "execution_count": 117,
      "metadata": {
        "colab": {
          "base_uri": "https://localhost:8080/",
          "height": 429
        },
        "id": "ZoCHaAmcg7im",
        "outputId": "f81a0cd8-09b1-4ccc-9b70-3993d50de217"
      },
      "outputs": [
        {
          "output_type": "execute_result",
          "data": {
            "text/plain": [
              "genre_name\n",
              "pop            5892\n",
              "dance          4435\n",
              "rock           3965\n",
              "electronic     3786\n",
              "hiphop         2096\n",
              "classical      1616\n",
              "world          1432\n",
              "alternative    1379\n",
              "ruspop         1372\n",
              "rusrap         1161\n",
              "Name: genre_name, dtype: int64"
            ],
            "text/html": [
              "<div>\n",
              "<style scoped>\n",
              "    .dataframe tbody tr th:only-of-type {\n",
              "        vertical-align: middle;\n",
              "    }\n",
              "\n",
              "    .dataframe tbody tr th {\n",
              "        vertical-align: top;\n",
              "    }\n",
              "\n",
              "    .dataframe thead th {\n",
              "        text-align: right;\n",
              "    }\n",
              "</style>\n",
              "<table border=\"1\" class=\"dataframe\">\n",
              "  <thead>\n",
              "    <tr style=\"text-align: right;\">\n",
              "      <th></th>\n",
              "      <th>genre_name</th>\n",
              "    </tr>\n",
              "    <tr>\n",
              "      <th>genre_name</th>\n",
              "      <th></th>\n",
              "    </tr>\n",
              "  </thead>\n",
              "  <tbody>\n",
              "    <tr>\n",
              "      <th>pop</th>\n",
              "      <td>5892</td>\n",
              "    </tr>\n",
              "    <tr>\n",
              "      <th>dance</th>\n",
              "      <td>4435</td>\n",
              "    </tr>\n",
              "    <tr>\n",
              "      <th>rock</th>\n",
              "      <td>3965</td>\n",
              "    </tr>\n",
              "    <tr>\n",
              "      <th>electronic</th>\n",
              "      <td>3786</td>\n",
              "    </tr>\n",
              "    <tr>\n",
              "      <th>hiphop</th>\n",
              "      <td>2096</td>\n",
              "    </tr>\n",
              "    <tr>\n",
              "      <th>classical</th>\n",
              "      <td>1616</td>\n",
              "    </tr>\n",
              "    <tr>\n",
              "      <th>world</th>\n",
              "      <td>1432</td>\n",
              "    </tr>\n",
              "    <tr>\n",
              "      <th>alternative</th>\n",
              "      <td>1379</td>\n",
              "    </tr>\n",
              "    <tr>\n",
              "      <th>ruspop</th>\n",
              "      <td>1372</td>\n",
              "    </tr>\n",
              "    <tr>\n",
              "      <th>rusrap</th>\n",
              "      <td>1161</td>\n",
              "    </tr>\n",
              "  </tbody>\n",
              "</table>\n",
              "</div><br><label><b>dtype:</b> int64</label>"
            ]
          },
          "metadata": {},
          "execution_count": 117
        }
      ],
      "source": [
        "# <просмотр первых 10 строк moscow_genres>\n",
        "moscow_genres.head(10)"
      ]
    },
    {
      "cell_type": "markdown",
      "metadata": {
        "id": "oIo2MIm8g7im"
      },
      "source": [
        "Сгруппируем таблицу spb_general по жанру, сосчитаем численность композиций каждого жанра методом count(), отсортируем в порядке убывания и сохраним результат в таблице spb_genres.\n",
        "\n",
        "Просматриваем первые 10 строк этой таблицы. Теперь можно сравнивать два города.\n"
      ]
    },
    {
      "cell_type": "code",
      "execution_count": 119,
      "metadata": {
        "id": "cB7eIvzcg7im"
      },
      "outputs": [],
      "source": [
        "# <группировка таблицы spb_general, расчёт, сохранение в spb_genres>\n",
        "spb_genres = spb_general.groupby(['genre_name'])['genre_name'].count().sort_values(ascending=False)"
      ]
    },
    {
      "cell_type": "markdown",
      "source": [],
      "metadata": {
        "id": "KSZtKcbcU-O9"
      }
    },
    {
      "cell_type": "code",
      "execution_count": 120,
      "metadata": {
        "colab": {
          "base_uri": "https://localhost:8080/",
          "height": 429
        },
        "id": "Zql2gwtpg7im",
        "outputId": "e71d74dc-6e71-48f9-856d-019f79e456b5"
      },
      "outputs": [
        {
          "output_type": "execute_result",
          "data": {
            "text/plain": [
              "genre_name\n",
              "pop            2431\n",
              "dance          1932\n",
              "rock           1879\n",
              "electronic     1736\n",
              "hiphop          960\n",
              "alternative     649\n",
              "classical       646\n",
              "rusrap          564\n",
              "ruspop          538\n",
              "world           515\n",
              "Name: genre_name, dtype: int64"
            ],
            "text/html": [
              "<div>\n",
              "<style scoped>\n",
              "    .dataframe tbody tr th:only-of-type {\n",
              "        vertical-align: middle;\n",
              "    }\n",
              "\n",
              "    .dataframe tbody tr th {\n",
              "        vertical-align: top;\n",
              "    }\n",
              "\n",
              "    .dataframe thead th {\n",
              "        text-align: right;\n",
              "    }\n",
              "</style>\n",
              "<table border=\"1\" class=\"dataframe\">\n",
              "  <thead>\n",
              "    <tr style=\"text-align: right;\">\n",
              "      <th></th>\n",
              "      <th>genre_name</th>\n",
              "    </tr>\n",
              "    <tr>\n",
              "      <th>genre_name</th>\n",
              "      <th></th>\n",
              "    </tr>\n",
              "  </thead>\n",
              "  <tbody>\n",
              "    <tr>\n",
              "      <th>pop</th>\n",
              "      <td>2431</td>\n",
              "    </tr>\n",
              "    <tr>\n",
              "      <th>dance</th>\n",
              "      <td>1932</td>\n",
              "    </tr>\n",
              "    <tr>\n",
              "      <th>rock</th>\n",
              "      <td>1879</td>\n",
              "    </tr>\n",
              "    <tr>\n",
              "      <th>electronic</th>\n",
              "      <td>1736</td>\n",
              "    </tr>\n",
              "    <tr>\n",
              "      <th>hiphop</th>\n",
              "      <td>960</td>\n",
              "    </tr>\n",
              "    <tr>\n",
              "      <th>alternative</th>\n",
              "      <td>649</td>\n",
              "    </tr>\n",
              "    <tr>\n",
              "      <th>classical</th>\n",
              "      <td>646</td>\n",
              "    </tr>\n",
              "    <tr>\n",
              "      <th>rusrap</th>\n",
              "      <td>564</td>\n",
              "    </tr>\n",
              "    <tr>\n",
              "      <th>ruspop</th>\n",
              "      <td>538</td>\n",
              "    </tr>\n",
              "    <tr>\n",
              "      <th>world</th>\n",
              "      <td>515</td>\n",
              "    </tr>\n",
              "  </tbody>\n",
              "</table>\n",
              "</div><br><label><b>dtype:</b> int64</label>"
            ]
          },
          "metadata": {},
          "execution_count": 120
        }
      ],
      "source": [
        "# <просмотр первых 10 строк spb_genres>\n",
        "spb_genres.head(10)"
      ]
    },
    {
      "cell_type": "markdown",
      "metadata": {
        "id": "GdcY83-dg7im"
      },
      "source": [
        "## Вывод\n",
        "В Москве, кроме абсолютно популярного жанра поп, есть направление русской популярной музыки. Значит, что интерес к этому жанру шире. А рэп, вопреки предположению, занимает в обоих городах близкие позиции.\n"
      ]
    },
    {
      "cell_type": "markdown",
      "metadata": {
        "id": "HLBe-_k4g7im"
      },
      "source": [
        "# Результаты исследования\n",
        "\n",
        "Рабочие гипотезы:\n",
        "\n",
        "•\tмузыку в двух городах — Москве и Санкт-Петербурге — слушают в разном режиме;\n",
        "\n",
        "•\tсписки десяти самых популярных жанров утром в понедельник и вечером в пятницу имеют характерные отличия;\n",
        "\n",
        "•\tнаселение двух городов предпочитает разные музыкальные жанры.\n",
        "\n",
        "**Общие результаты**\n",
        "\n",
        "Москва и Петербург сходятся во вкусах: везде преобладает популярная музыка. При этом зависимости предпочтений от дня недели в каждом отдельном городе нет — люди постоянно слушают то, что им нравится. Но между городами в разрезе дней неделей наблюдается зеркальность относительно среды: Москва больше слушает в понедельник и пятницу, а Петербург наоборот - больше в среду, но меньше в понедельник и пятницу.\n",
        "В результате первая гипотеза подтверждена, вторая гипотеза не подтверждена и третья не подтверждена не подтверждена\n"
      ]
    },
    {
      "cell_type": "code",
      "execution_count": null,
      "metadata": {
        "id": "wnHr3hnPg7in"
      },
      "outputs": [],
      "source": []
    },
    {
      "cell_type": "code",
      "execution_count": null,
      "metadata": {
        "id": "Tl2hMhdzg7in"
      },
      "outputs": [],
      "source": []
    }
  ],
  "metadata": {
    "kernelspec": {
      "display_name": "Python 3 (ipykernel)",
      "language": "python",
      "name": "python3"
    },
    "language_info": {
      "codemirror_mode": {
        "name": "ipython",
        "version": 3
      },
      "file_extension": ".py",
      "mimetype": "text/x-python",
      "name": "python",
      "nbconvert_exporter": "python",
      "pygments_lexer": "ipython3",
      "version": "3.9.12"
    },
    "colab": {
      "provenance": [],
      "include_colab_link": true
    }
  },
  "nbformat": 4,
  "nbformat_minor": 0
}