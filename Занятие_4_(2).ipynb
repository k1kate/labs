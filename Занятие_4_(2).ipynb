{
  "cells": [
    {
      "cell_type": "markdown",
      "metadata": {
        "id": "view-in-github",
        "colab_type": "text"
      },
      "source": [
        "<a href=\"https://colab.research.google.com/github/k1kate/labs/blob/main/%D0%97%D0%B0%D0%BD%D1%8F%D1%82%D0%B8%D0%B5_4_(2).ipynb\" target=\"_parent\"><img src=\"https://colab.research.google.com/assets/colab-badge.svg\" alt=\"Open In Colab\"/></a>"
      ]
    },
    {
      "cell_type": "markdown",
      "metadata": {
        "id": "OBQRWb_92tOz"
      },
      "source": [
        "# Анализ и обработка результатов\n",
        "\n",
        "В анализе данных важно наглядное представление результатов, чтобы их мог оценить заказчик. Это бизнес, где на кону громадный трафик, серверные мощности, личное время многотысячной аудитории. И одновременно это исследование.\n",
        "\n",
        "Как в настоящей экспериментальной науке, ответ непредсказуем. Его точность зависит от умелого владения статистическими методами и от качества исходных данных. Перед тем, как начинать считать, проверьте, грамотно ли ваши данные подготовлены.\n",
        "\n",
        "# Группировка данных\n",
        "\n",
        "Слово «анализ» означает разбор, рассмотрение с разных сторон. Анализ данных начинают с разделения их на группы по какому-нибудь признаку. Эта операция называется группировка данных. Она помогает изучить материал более подробно, чтобы затем перейти к поиску взаимосвязей между отдельными группами.\n",
        "\n",
        "\n",
        "Группировка оправданна, если данные чётко делятся по значимому признаку, а полученные группы близки к теме задачи. Например, когда есть данные обо всех покупках в супермаркете, можно смело заниматься группировкой. Так можно установить время наплыва покупателей и решить проблему пиковых нагрузок. Или посчитать средний чек — обычно для магазинов это ключевая метрика.\n",
        "\n",
        "\n",
        "Стадии группировки хорошо укладываются в словесную формулу **split-apply-combine**:\n",
        "\n",
        "•\tразделить, **split** — разбиение на группы по определённому критерию;\n",
        "\n",
        "•\tприменить, **apply** — применение какого-либо метода к каждой группе в отдельности, например, подсчёт численности группы методом count() или суммирование вызовом sum();\n",
        "\n",
        "•\tобъединить, **combine** — сведение результатов в новую структуру данных, в зависимости от условий разделения и выполнения метода это бывает DataFrame и Series.\n",
        "\n",
        "На картинке изображен принцип **split-apply-combine** для таблицы с экзопланетами. Посмотрим, как вообще идут дела с поиском экзопланет. Сначала данные делят по группам, где каждая группа — это год. Потом метод **count()** подсчитывает численность каждой группы. В итоге получаем новую структуру данных с группами, где каждая содержит год и число открытых за этот год экзопланет.\n",
        "\n",
        "![image.png](attachment:image.png)\n",
        "\n",
        "В Рandas для группировки данных есть метод **groupby()**. Он принимает как аргумент название столбца, по которому нужно группировать. В случае с делением экзопланет по годам открытия:\n",
        "\n",
        "**print(exoplanet.groupby('discovered'))**\n",
        "\n",
        "**<pandas.core.groupby.DataFrameGroupBy object at 0x7fc1e1ca3400>**\n",
        "\n",
        "\n",
        "Применение метода **groupby()** к объекту типа DataFrame приводит к созданию объекта особого типа — **DataFrameGroupBy**. Это сгруппированные данные. Если применить к ним какой-нибудь метод Pandas, они станут новой структурой данных типа **DataFrame** или **Series**.\n",
        "Подсчитаем сгруппированные по годам экзопланеты методом **count()**:\n",
        "\n",
        "Если нужно сравнить наблюдения по одному показателю, метод применяют к **DataFrameGroupBy** с указанием на один столбец. Нас в первую очередь интересует радиус экзопланет: мы ищем другую Землю. Давайте получим таблицу с единственным столбцом 'radius':\n",
        "\n",
        "**exo_number = exoplanet.groupby('discovered')['radius'].count()**\n",
        "\n",
        "**print(exo_number)**\n",
        "\n",
        "Получили Series, где по годам открытия расписано количество экзопланет, для которых удалось установить радиус.\n",
        "\n",
        "Посмотрим, как меняется средний радиус открытых экзопланет год от года. Для этого надо сложить радиусы планет, открытых за определённый год, и поделить на их количество (которое мы уже нашли).\n",
        "\n",
        "Сумма радиусов считается методом **sum()**:\n",
        "\n",
        "**exo_radius_sum = exoplanet.groupby('discovered')['radius'].sum()**\n",
        "\n",
        "\n",
        "**print(exo_radius_sum)**\n",
        "\n",
        "\n",
        "\n",
        "## Задача\n",
        "Вашему вниманию предлагается датасет с обзором показателей самоубийств с 1985 по 2016 год — Сравнение социально-экономической информации с показателями самоубийств по годам и странам.\n",
        "\n",
        "Столбцами этой таблицы являются: страна, год, пол, возрастная группа, количество самоубийств, население, уровень самоубийств, сводный ключ по стране за год, ИЧР (индекс человеческого развития) за год, ВВП за год, ВВП на душу населения, поколение (на основе среднего по возрастной группе).\n",
        "\n",
        "1. Загрузите таблицу master, содержащую данные о самоубийствах. Выведите на экран таблицу и оцените данные, обратите внимание на названия столбцов, переименуйте их, если это необходимо.\n",
        "\n",
        "2. Убедитесь в том, что данные прошли предподготовку.  Пропущенные и неопределённые значения выявляет метод isna(), а суммарное количество таких значений — метод sum().\n",
        "\n",
        "3. Сгруппируйте DataFrame по столбцу country, сохраните полученный результат в переменной country_grouping.\n",
        "\n",
        "4. Посчитайте количество случаев самоубийств по странам, которые были совершены, методом **sum()**, указав, что выбираем один столбец suicides_no.\n",
        "\n",
        "Сохраните результат в переменной country_sum и выведите первые 30 строк этой таблицы.\n",
        "\n"
      ]
    },
    {
      "cell_type": "code",
      "execution_count": null,
      "metadata": {
        "scrolled": true,
        "colab": {
          "base_uri": "https://localhost:8080/"
        },
        "id": "032bGOU22tO1",
        "outputId": "7d0178f6-b99e-4b33-dd32-23289519bc2d"
      },
      "outputs": [
        {
          "output_type": "stream",
          "name": "stdout",
          "text": [
            "0\n",
            "country\n",
            "Albania                     238\n",
            "Antigua and Barbuda           0\n",
            "Argentina                 27485\n",
            "Armenia                     628\n",
            "Australia                 19654\n",
            "Austria                   15124\n",
            "Azerbaijan                  111\n",
            "Bahamas                      39\n",
            "Bahrain                     152\n",
            "Barbados                     54\n",
            "Belarus                   11757\n",
            "Belgium                   20424\n",
            "Belize                      154\n",
            "Bosnia and Herzegovina      318\n",
            "Brazil                    81549\n",
            "Bulgaria                  10516\n",
            "Canada                    33612\n",
            "Chile                     14907\n",
            "Colombia                  17940\n",
            "Costa Rica                 2513\n",
            "Croatia                    6397\n",
            "Cuba                      12998\n",
            "Cyprus                      217\n",
            "Czech Republic            14760\n",
            "Denmark                    5335\n",
            "Ecuador                    7080\n",
            "El Salvador                4373\n",
            "Estonia                    2381\n",
            "Fiji                         92\n",
            "Finland                    9474\n",
            "Name: suicides_no, dtype: int64\n"
          ]
        }
      ],
      "source": [
        "import pandas as pd\n",
        "\n",
        "df = pd.read_csv('master.csv')\n",
        "col = ['country', 'year', 'sex', 'age', 'suicides_no', 'population',\n",
        "       'suicides/100k', 'country_year', 'HDI',\n",
        "       'gdp_for_year', 'gdp_per_capita', 'generation']\n",
        "df = df.set_axis(col, axis='columns')\n",
        "df.dropna(inplace=True, subset = col)\n",
        "print(df.duplicated().sum())\n",
        "country_grouping = df.groupby('country')['suicides_no']\n",
        "country_sum = country_grouping.sum()\n",
        "print(country_sum.head(30))\n",
        "\n"
      ]
    },
    {
      "cell_type": "markdown",
      "metadata": {
        "id": "Xq9eD5s62tO2"
      },
      "source": [
        "# Сортировка данных\n",
        "\n",
        "\n",
        "Поиск необычного в группе — что среди планет, что среди меломанов — это прежде всего поиск чемпионов: объектов с выдающимися показателями по разным статьям. Как всю таблицу, так и отдельные группы изучают, сортируя строки по какому-либо столбцу.\n",
        "\n",
        "В Pandas для этой операции есть метод **sort_values()**. У него два аргумента:\n",
        "\n",
        "• **by = 'имя столбца'** — имя столбца, по которому нужно сортировать;\n",
        "\n",
        "• **ascending:** по умолчанию True. Для сортировки по убыванию установите значение False.\n",
        "\n",
        "![image.png](attachment:image.png)\n",
        "\n",
        "\n",
        "Среди экзопланет интересны близкие по размерам к Земле. Есть ли такие? Отсортируем список по радиусу в порядке возрастания. Тогда в голове таблицы окажутся самые малые, на которых гравитация не прижмёт нас к полу.\n",
        "\n",
        "**print(exoplanet.sort_values(by='radius').head(30))**\n",
        "\n",
        "Оказывается, некоторые из уже открытых экзопланет по размерам близки не то что к Земле, но уже и к Луне! Получим список экзопланет с радиусом меньше земного. Смотрите, как логический оператор (здесь это <) задействуется в отборе элементов столбца. Дальше нам этот приём не раз понадобится.\n",
        "\n",
        "**print(exoplanet[exoplanet['radius'] < 1])**\n",
        "\n",
        "Но и этот список такой длинный, что изучать его лучше по частям. Экзопланеты, близкие по размерам к Земле, за последнее десятилетие открывали нередко. Можно изучать список открытых за каждый год. Например, для 2014 года (вновь обратите внимание на работу логического оператора, теперь это ==):\n",
        "\n",
        "**print(exoplanet[exoplanet['discovered'] == 2014])**\n",
        "\n",
        "А чтобы не тратить время на лишнее, поставим оба условия сразу. Для этого в Pandas есть логический оператор &, подобный оператору and языка Python. Напомним, его смысл на русском языке можно передать словами «и ещё»:\n",
        "\n",
        "**exo_small_14 = exoplanet[ (exoplanet['radius']<1) & (exoplanet['discovered']==2014)]**\n",
        "\n",
        "**print(exo_small_14)**\n",
        "\n",
        "Отсортируем результат в порядке убывания радиуса.\n",
        "\n",
        "**print(exo_small_14.sort_values(by = 'radius', ascending = False))**\n",
        "\n",
        "\n",
        "\n"
      ]
    },
    {
      "cell_type": "markdown",
      "metadata": {
        "id": "rLBzHMZj2tO2"
      },
      "source": [
        "## Задача\n",
        "1. Выделим пятерки стран с самым низким и самым высоким уровнем самоубийств в мире."
      ]
    },
    {
      "cell_type": "code",
      "execution_count": null,
      "metadata": {
        "colab": {
          "base_uri": "https://localhost:8080/"
        },
        "id": "TLpF8She2tO3",
        "outputId": "ba3774ad-2087-44bf-b3b7-20063543e0ae"
      },
      "outputs": [
        {
          "output_type": "stream",
          "name": "stdout",
          "text": [
            "country\n",
            "Antigua and Barbuda     0\n",
            "Grenada                 3\n",
            "Maldives                4\n",
            "Oman                   20\n",
            "Seychelles             32\n",
            "Name: suicides_no, dtype: int64\n",
            "country\n",
            "Ukraine           85362\n",
            "Germany           98542\n",
            "France           106296\n",
            "Japan            259729\n",
            "United States    355963\n",
            "Name: suicides_no, dtype: int64\n"
          ]
        }
      ],
      "source": [
        "country_sum = country_sum.sort_values()\n",
        "print(country_sum.head(5))\n",
        "print(country_sum.tail(5))\n",
        "\n",
        "\n"
      ]
    },
    {
      "cell_type": "markdown",
      "metadata": {
        "id": "_hEPbcWv2tO3"
      },
      "source": [
        "2. Исследуйте распределение количества суидидов по гендерному признаку. Найдите лидеров и антилидеров по количеству самоубийств среди женщин. Повторяется ли картина по сравнению с предыдущим исследованием?"
      ]
    },
    {
      "cell_type": "code",
      "execution_count": null,
      "metadata": {
        "colab": {
          "base_uri": "https://localhost:8080/"
        },
        "id": "5hABNFcM2tO3",
        "outputId": "c0366e5c-1213-4c1c-ca24-dcc4c4dbcd53"
      },
      "outputs": [
        {
          "output_type": "stream",
          "name": "stdout",
          "text": [
            "country        sex   \n",
            "United States  male      280930\n",
            "Japan          male      179046\n",
            "               female     80683\n",
            "France         male       78128\n",
            "United States  female     75033\n",
            "Name: suicides_no, dtype: int64\n",
            "country                       sex   \n",
            "Saint Lucia                   female    9\n",
            "Saint Vincent and Grenadines  female    5\n",
            "Maldives                      male      4\n",
            "Seychelles                    female    3\n",
            "Grenada                       male      3\n",
            "Oman                          female    0\n",
            "Maldives                      female    0\n",
            "Grenada                       female    0\n",
            "Antigua and Barbuda           male      0\n",
            "                              female    0\n",
            "Name: suicides_no, dtype: int64\n"
          ]
        }
      ],
      "source": [
        "country_grouping = df.groupby(['country', 'sex'])['suicides_no'].sum().sort_values(ascending=False)\n",
        "\n",
        "print(country_grouping.head(5))\n",
        "print(country_grouping.tail(10))\n"
      ]
    },
    {
      "cell_type": "markdown",
      "metadata": {
        "id": "73ZWyLkk2tO3"
      },
      "source": [
        "# Описательная статистика\n",
        "\n",
        "Чтобы представить себе среднестатистического самоубийцу, понадобится описательная статистика.\n",
        "\n",
        "Из её показателей для количественного описания данных в нашей задаче нужны четыре меры — максимум, минимум, медиана и среднее.\n",
        "\n",
        "Наибольшее и наименьшее обычно вычисляют только по одному признаку. Например, можно получить минимальное и максимальное значение уровня самоубийств (количество самоубийств на 100 тыс.населения) (столбец 'suicides/100k pop'). Для поиска максимума вызывают метод max(), примененный к этому столбцу:\n",
        "\n",
        "print(master['suicides/100k pop'].max())\n"
      ]
    },
    {
      "cell_type": "code",
      "execution_count": null,
      "metadata": {
        "colab": {
          "base_uri": "https://localhost:8080/"
        },
        "id": "7mRT_FGz2tO3",
        "outputId": "43a40211-e7da-4055-ab5c-db38bc275714"
      },
      "outputs": [
        {
          "output_type": "stream",
          "name": "stdout",
          "text": [
            "187.06\n"
          ]
        }
      ],
      "source": [
        "print(df['suicides/100k'].max())"
      ]
    },
    {
      "cell_type": "markdown",
      "metadata": {
        "id": "xSbFsQsj2tO3"
      },
      "source": [
        "Самый высокий показатель оказался 224.97 самоубийств на 100 тыс.населения. Интересно, в какой стране такая ситуация.\n",
        "\n",
        "Запросим из master строку с максимальным значением, прибегнув к логической индексации с условием\n",
        "\n",
        "**master['suicides/100k pop'] == master['suicides/100k pop'].max()**"
      ]
    },
    {
      "cell_type": "code",
      "execution_count": null,
      "metadata": {
        "colab": {
          "base_uri": "https://localhost:8080/",
          "height": 118
        },
        "id": "-7fpqU6X2tO4",
        "outputId": "0d8a75a8-1be1-4e32-b861-32e53bee1583"
      },
      "outputs": [
        {
          "output_type": "execute_result",
          "data": {
            "text/plain": [
              "        country  year   sex        age  suicides_no  population  \\\n",
              "24332  Suriname  2012  male  75+ years           10        5346   \n",
              "\n",
              "       suicides/100k  country_year    HDI   gdp_for_year  gdp_per_capita  \\\n",
              "24332         187.06  Suriname2012  0.711  4,980,000,000           10227   \n",
              "\n",
              "      generation  \n",
              "24332     Silent  "
            ],
            "text/html": [
              "\n",
              "  <div id=\"df-1c780307-aa5d-49ef-89ff-32a074d23a18\" class=\"colab-df-container\">\n",
              "    <div>\n",
              "<style scoped>\n",
              "    .dataframe tbody tr th:only-of-type {\n",
              "        vertical-align: middle;\n",
              "    }\n",
              "\n",
              "    .dataframe tbody tr th {\n",
              "        vertical-align: top;\n",
              "    }\n",
              "\n",
              "    .dataframe thead th {\n",
              "        text-align: right;\n",
              "    }\n",
              "</style>\n",
              "<table border=\"1\" class=\"dataframe\">\n",
              "  <thead>\n",
              "    <tr style=\"text-align: right;\">\n",
              "      <th></th>\n",
              "      <th>country</th>\n",
              "      <th>year</th>\n",
              "      <th>sex</th>\n",
              "      <th>age</th>\n",
              "      <th>suicides_no</th>\n",
              "      <th>population</th>\n",
              "      <th>suicides/100k</th>\n",
              "      <th>country_year</th>\n",
              "      <th>HDI</th>\n",
              "      <th>gdp_for_year</th>\n",
              "      <th>gdp_per_capita</th>\n",
              "      <th>generation</th>\n",
              "    </tr>\n",
              "  </thead>\n",
              "  <tbody>\n",
              "    <tr>\n",
              "      <th>24332</th>\n",
              "      <td>Suriname</td>\n",
              "      <td>2012</td>\n",
              "      <td>male</td>\n",
              "      <td>75+ years</td>\n",
              "      <td>10</td>\n",
              "      <td>5346</td>\n",
              "      <td>187.06</td>\n",
              "      <td>Suriname2012</td>\n",
              "      <td>0.711</td>\n",
              "      <td>4,980,000,000</td>\n",
              "      <td>10227</td>\n",
              "      <td>Silent</td>\n",
              "    </tr>\n",
              "  </tbody>\n",
              "</table>\n",
              "</div>\n",
              "    <div class=\"colab-df-buttons\">\n",
              "\n",
              "  <div class=\"colab-df-container\">\n",
              "    <button class=\"colab-df-convert\" onclick=\"convertToInteractive('df-1c780307-aa5d-49ef-89ff-32a074d23a18')\"\n",
              "            title=\"Convert this dataframe to an interactive table.\"\n",
              "            style=\"display:none;\">\n",
              "\n",
              "  <svg xmlns=\"http://www.w3.org/2000/svg\" height=\"24px\" viewBox=\"0 -960 960 960\">\n",
              "    <path d=\"M120-120v-720h720v720H120Zm60-500h600v-160H180v160Zm220 220h160v-160H400v160Zm0 220h160v-160H400v160ZM180-400h160v-160H180v160Zm440 0h160v-160H620v160ZM180-180h160v-160H180v160Zm440 0h160v-160H620v160Z\"/>\n",
              "  </svg>\n",
              "    </button>\n",
              "\n",
              "  <style>\n",
              "    .colab-df-container {\n",
              "      display:flex;\n",
              "      gap: 12px;\n",
              "    }\n",
              "\n",
              "    .colab-df-convert {\n",
              "      background-color: #E8F0FE;\n",
              "      border: none;\n",
              "      border-radius: 50%;\n",
              "      cursor: pointer;\n",
              "      display: none;\n",
              "      fill: #1967D2;\n",
              "      height: 32px;\n",
              "      padding: 0 0 0 0;\n",
              "      width: 32px;\n",
              "    }\n",
              "\n",
              "    .colab-df-convert:hover {\n",
              "      background-color: #E2EBFA;\n",
              "      box-shadow: 0px 1px 2px rgba(60, 64, 67, 0.3), 0px 1px 3px 1px rgba(60, 64, 67, 0.15);\n",
              "      fill: #174EA6;\n",
              "    }\n",
              "\n",
              "    .colab-df-buttons div {\n",
              "      margin-bottom: 4px;\n",
              "    }\n",
              "\n",
              "    [theme=dark] .colab-df-convert {\n",
              "      background-color: #3B4455;\n",
              "      fill: #D2E3FC;\n",
              "    }\n",
              "\n",
              "    [theme=dark] .colab-df-convert:hover {\n",
              "      background-color: #434B5C;\n",
              "      box-shadow: 0px 1px 3px 1px rgba(0, 0, 0, 0.15);\n",
              "      filter: drop-shadow(0px 1px 2px rgba(0, 0, 0, 0.3));\n",
              "      fill: #FFFFFF;\n",
              "    }\n",
              "  </style>\n",
              "\n",
              "    <script>\n",
              "      const buttonEl =\n",
              "        document.querySelector('#df-1c780307-aa5d-49ef-89ff-32a074d23a18 button.colab-df-convert');\n",
              "      buttonEl.style.display =\n",
              "        google.colab.kernel.accessAllowed ? 'block' : 'none';\n",
              "\n",
              "      async function convertToInteractive(key) {\n",
              "        const element = document.querySelector('#df-1c780307-aa5d-49ef-89ff-32a074d23a18');\n",
              "        const dataTable =\n",
              "          await google.colab.kernel.invokeFunction('convertToInteractive',\n",
              "                                                    [key], {});\n",
              "        if (!dataTable) return;\n",
              "\n",
              "        const docLinkHtml = 'Like what you see? Visit the ' +\n",
              "          '<a target=\"_blank\" href=https://colab.research.google.com/notebooks/data_table.ipynb>data table notebook</a>'\n",
              "          + ' to learn more about interactive tables.';\n",
              "        element.innerHTML = '';\n",
              "        dataTable['output_type'] = 'display_data';\n",
              "        await google.colab.output.renderOutput(dataTable, element);\n",
              "        const docLink = document.createElement('div');\n",
              "        docLink.innerHTML = docLinkHtml;\n",
              "        element.appendChild(docLink);\n",
              "      }\n",
              "    </script>\n",
              "  </div>\n",
              "\n",
              "    </div>\n",
              "  </div>\n"
            ],
            "application/vnd.google.colaboratory.intrinsic+json": {
              "type": "dataframe",
              "summary": "{\n  \"name\": \"df[df['suicides/100k'] == df['suicides/100k']\",\n  \"rows\": 1,\n  \"fields\": [\n    {\n      \"column\": \"country\",\n      \"properties\": {\n        \"dtype\": \"string\",\n        \"num_unique_values\": 1,\n        \"samples\": [\n          \"Suriname\"\n        ],\n        \"semantic_type\": \"\",\n        \"description\": \"\"\n      }\n    },\n    {\n      \"column\": \"year\",\n      \"properties\": {\n        \"dtype\": \"number\",\n        \"std\": null,\n        \"min\": 2012,\n        \"max\": 2012,\n        \"num_unique_values\": 1,\n        \"samples\": [\n          2012\n        ],\n        \"semantic_type\": \"\",\n        \"description\": \"\"\n      }\n    },\n    {\n      \"column\": \"sex\",\n      \"properties\": {\n        \"dtype\": \"string\",\n        \"num_unique_values\": 1,\n        \"samples\": [\n          \"male\"\n        ],\n        \"semantic_type\": \"\",\n        \"description\": \"\"\n      }\n    },\n    {\n      \"column\": \"age\",\n      \"properties\": {\n        \"dtype\": \"string\",\n        \"num_unique_values\": 1,\n        \"samples\": [\n          \"75+ years\"\n        ],\n        \"semantic_type\": \"\",\n        \"description\": \"\"\n      }\n    },\n    {\n      \"column\": \"suicides_no\",\n      \"properties\": {\n        \"dtype\": \"number\",\n        \"std\": null,\n        \"min\": 10,\n        \"max\": 10,\n        \"num_unique_values\": 1,\n        \"samples\": [\n          10\n        ],\n        \"semantic_type\": \"\",\n        \"description\": \"\"\n      }\n    },\n    {\n      \"column\": \"population\",\n      \"properties\": {\n        \"dtype\": \"number\",\n        \"std\": null,\n        \"min\": 5346,\n        \"max\": 5346,\n        \"num_unique_values\": 1,\n        \"samples\": [\n          5346\n        ],\n        \"semantic_type\": \"\",\n        \"description\": \"\"\n      }\n    },\n    {\n      \"column\": \"suicides/100k\",\n      \"properties\": {\n        \"dtype\": \"number\",\n        \"std\": null,\n        \"min\": 187.06,\n        \"max\": 187.06,\n        \"num_unique_values\": 1,\n        \"samples\": [\n          187.06\n        ],\n        \"semantic_type\": \"\",\n        \"description\": \"\"\n      }\n    },\n    {\n      \"column\": \"country_year\",\n      \"properties\": {\n        \"dtype\": \"string\",\n        \"num_unique_values\": 1,\n        \"samples\": [\n          \"Suriname2012\"\n        ],\n        \"semantic_type\": \"\",\n        \"description\": \"\"\n      }\n    },\n    {\n      \"column\": \"HDI\",\n      \"properties\": {\n        \"dtype\": \"number\",\n        \"std\": null,\n        \"min\": 0.711,\n        \"max\": 0.711,\n        \"num_unique_values\": 1,\n        \"samples\": [\n          0.711\n        ],\n        \"semantic_type\": \"\",\n        \"description\": \"\"\n      }\n    },\n    {\n      \"column\": \"gdp_for_year\",\n      \"properties\": {\n        \"dtype\": \"string\",\n        \"num_unique_values\": 1,\n        \"samples\": [\n          \"4,980,000,000\"\n        ],\n        \"semantic_type\": \"\",\n        \"description\": \"\"\n      }\n    },\n    {\n      \"column\": \"gdp_per_capita\",\n      \"properties\": {\n        \"dtype\": \"number\",\n        \"std\": null,\n        \"min\": 10227,\n        \"max\": 10227,\n        \"num_unique_values\": 1,\n        \"samples\": [\n          10227\n        ],\n        \"semantic_type\": \"\",\n        \"description\": \"\"\n      }\n    },\n    {\n      \"column\": \"generation\",\n      \"properties\": {\n        \"dtype\": \"string\",\n        \"num_unique_values\": 1,\n        \"samples\": [\n          \"Silent\"\n        ],\n        \"semantic_type\": \"\",\n        \"description\": \"\"\n      }\n    }\n  ]\n}"
            }
          },
          "metadata": {},
          "execution_count": 61
        }
      ],
      "source": [
        "df[df['suicides/100k'] == df['suicides/100k'].max()]"
      ]
    },
    {
      "cell_type": "markdown",
      "metadata": {
        "id": "cKVDl1GN2tO4"
      },
      "source": [
        "Минимальное значение — ищут методом **min()**. Нам интересно установить случаи, когда уровень суицидов минимальный, но не нулевой.\n",
        "\n",
        "Вот как мы создаём выборку  и находим в ней минимальное значение:\n",
        "\n",
        "**master_drop_null = master[master['suicides/100k pop'] != 0]**\n",
        "\n",
        "**print(master_drop_null['suicides/100k pop'].min())**\n"
      ]
    },
    {
      "cell_type": "code",
      "execution_count": null,
      "metadata": {
        "colab": {
          "base_uri": "https://localhost:8080/"
        },
        "id": "V7SHnDxF2tO4",
        "outputId": "a551e66f-4792-43cb-8037-168da3877a18"
      },
      "outputs": [
        {
          "output_type": "stream",
          "name": "stdout",
          "text": [
            "0.02\n"
          ]
        }
      ],
      "source": [
        "master_drop_null = df[df['suicides/100k'] != 0]\n",
        "\n",
        "print(master_drop_null['suicides/100k'].min())"
      ]
    },
    {
      "cell_type": "markdown",
      "metadata": {
        "id": "5VokEsmL2tO4"
      },
      "source": [
        "Получим название самой \"счастливой\" страны. Как и при поиске максимума, воспользуемся условием и логической индексацией"
      ]
    },
    {
      "cell_type": "code",
      "execution_count": null,
      "metadata": {
        "colab": {
          "base_uri": "https://localhost:8080/",
          "height": 167
        },
        "id": "kk2jjg_N2tO4",
        "outputId": "96587810-1c91-4cc8-a090-c93d3e979b2f"
      },
      "outputs": [
        {
          "output_type": "execute_result",
          "data": {
            "text/plain": [
              "            country  year     sex         age  suicides_no  population  \\\n",
              "23347  South Africa  2000  female  5-14 years            1     5079980   \n",
              "23479  South Africa  2011    male  5-14 years            1     5198162   \n",
              "\n",
              "       suicides/100k      country_year    HDI     gdp_for_year  \\\n",
              "23347           0.02  South Africa2000  0.632  136,361,854,808   \n",
              "23479           0.02  South Africa2011  0.651  416,878,162,441   \n",
              "\n",
              "       gdp_per_capita    generation  \n",
              "23347            3361    Millenials  \n",
              "23479            8906  Generation Z  "
            ],
            "text/html": [
              "\n",
              "  <div id=\"df-4f2a062f-db21-421a-ba5e-dd5fa402901f\" class=\"colab-df-container\">\n",
              "    <div>\n",
              "<style scoped>\n",
              "    .dataframe tbody tr th:only-of-type {\n",
              "        vertical-align: middle;\n",
              "    }\n",
              "\n",
              "    .dataframe tbody tr th {\n",
              "        vertical-align: top;\n",
              "    }\n",
              "\n",
              "    .dataframe thead th {\n",
              "        text-align: right;\n",
              "    }\n",
              "</style>\n",
              "<table border=\"1\" class=\"dataframe\">\n",
              "  <thead>\n",
              "    <tr style=\"text-align: right;\">\n",
              "      <th></th>\n",
              "      <th>country</th>\n",
              "      <th>year</th>\n",
              "      <th>sex</th>\n",
              "      <th>age</th>\n",
              "      <th>suicides_no</th>\n",
              "      <th>population</th>\n",
              "      <th>suicides/100k</th>\n",
              "      <th>country_year</th>\n",
              "      <th>HDI</th>\n",
              "      <th>gdp_for_year</th>\n",
              "      <th>gdp_per_capita</th>\n",
              "      <th>generation</th>\n",
              "    </tr>\n",
              "  </thead>\n",
              "  <tbody>\n",
              "    <tr>\n",
              "      <th>23347</th>\n",
              "      <td>South Africa</td>\n",
              "      <td>2000</td>\n",
              "      <td>female</td>\n",
              "      <td>5-14 years</td>\n",
              "      <td>1</td>\n",
              "      <td>5079980</td>\n",
              "      <td>0.02</td>\n",
              "      <td>South Africa2000</td>\n",
              "      <td>0.632</td>\n",
              "      <td>136,361,854,808</td>\n",
              "      <td>3361</td>\n",
              "      <td>Millenials</td>\n",
              "    </tr>\n",
              "    <tr>\n",
              "      <th>23479</th>\n",
              "      <td>South Africa</td>\n",
              "      <td>2011</td>\n",
              "      <td>male</td>\n",
              "      <td>5-14 years</td>\n",
              "      <td>1</td>\n",
              "      <td>5198162</td>\n",
              "      <td>0.02</td>\n",
              "      <td>South Africa2011</td>\n",
              "      <td>0.651</td>\n",
              "      <td>416,878,162,441</td>\n",
              "      <td>8906</td>\n",
              "      <td>Generation Z</td>\n",
              "    </tr>\n",
              "  </tbody>\n",
              "</table>\n",
              "</div>\n",
              "    <div class=\"colab-df-buttons\">\n",
              "\n",
              "  <div class=\"colab-df-container\">\n",
              "    <button class=\"colab-df-convert\" onclick=\"convertToInteractive('df-4f2a062f-db21-421a-ba5e-dd5fa402901f')\"\n",
              "            title=\"Convert this dataframe to an interactive table.\"\n",
              "            style=\"display:none;\">\n",
              "\n",
              "  <svg xmlns=\"http://www.w3.org/2000/svg\" height=\"24px\" viewBox=\"0 -960 960 960\">\n",
              "    <path d=\"M120-120v-720h720v720H120Zm60-500h600v-160H180v160Zm220 220h160v-160H400v160Zm0 220h160v-160H400v160ZM180-400h160v-160H180v160Zm440 0h160v-160H620v160ZM180-180h160v-160H180v160Zm440 0h160v-160H620v160Z\"/>\n",
              "  </svg>\n",
              "    </button>\n",
              "\n",
              "  <style>\n",
              "    .colab-df-container {\n",
              "      display:flex;\n",
              "      gap: 12px;\n",
              "    }\n",
              "\n",
              "    .colab-df-convert {\n",
              "      background-color: #E8F0FE;\n",
              "      border: none;\n",
              "      border-radius: 50%;\n",
              "      cursor: pointer;\n",
              "      display: none;\n",
              "      fill: #1967D2;\n",
              "      height: 32px;\n",
              "      padding: 0 0 0 0;\n",
              "      width: 32px;\n",
              "    }\n",
              "\n",
              "    .colab-df-convert:hover {\n",
              "      background-color: #E2EBFA;\n",
              "      box-shadow: 0px 1px 2px rgba(60, 64, 67, 0.3), 0px 1px 3px 1px rgba(60, 64, 67, 0.15);\n",
              "      fill: #174EA6;\n",
              "    }\n",
              "\n",
              "    .colab-df-buttons div {\n",
              "      margin-bottom: 4px;\n",
              "    }\n",
              "\n",
              "    [theme=dark] .colab-df-convert {\n",
              "      background-color: #3B4455;\n",
              "      fill: #D2E3FC;\n",
              "    }\n",
              "\n",
              "    [theme=dark] .colab-df-convert:hover {\n",
              "      background-color: #434B5C;\n",
              "      box-shadow: 0px 1px 3px 1px rgba(0, 0, 0, 0.15);\n",
              "      filter: drop-shadow(0px 1px 2px rgba(0, 0, 0, 0.3));\n",
              "      fill: #FFFFFF;\n",
              "    }\n",
              "  </style>\n",
              "\n",
              "    <script>\n",
              "      const buttonEl =\n",
              "        document.querySelector('#df-4f2a062f-db21-421a-ba5e-dd5fa402901f button.colab-df-convert');\n",
              "      buttonEl.style.display =\n",
              "        google.colab.kernel.accessAllowed ? 'block' : 'none';\n",
              "\n",
              "      async function convertToInteractive(key) {\n",
              "        const element = document.querySelector('#df-4f2a062f-db21-421a-ba5e-dd5fa402901f');\n",
              "        const dataTable =\n",
              "          await google.colab.kernel.invokeFunction('convertToInteractive',\n",
              "                                                    [key], {});\n",
              "        if (!dataTable) return;\n",
              "\n",
              "        const docLinkHtml = 'Like what you see? Visit the ' +\n",
              "          '<a target=\"_blank\" href=https://colab.research.google.com/notebooks/data_table.ipynb>data table notebook</a>'\n",
              "          + ' to learn more about interactive tables.';\n",
              "        element.innerHTML = '';\n",
              "        dataTable['output_type'] = 'display_data';\n",
              "        await google.colab.output.renderOutput(dataTable, element);\n",
              "        const docLink = document.createElement('div');\n",
              "        docLink.innerHTML = docLinkHtml;\n",
              "        element.appendChild(docLink);\n",
              "      }\n",
              "    </script>\n",
              "  </div>\n",
              "\n",
              "\n",
              "<div id=\"df-5952c030-e561-4af2-bc7b-57a79b4da553\">\n",
              "  <button class=\"colab-df-quickchart\" onclick=\"quickchart('df-5952c030-e561-4af2-bc7b-57a79b4da553')\"\n",
              "            title=\"Suggest charts\"\n",
              "            style=\"display:none;\">\n",
              "\n",
              "<svg xmlns=\"http://www.w3.org/2000/svg\" height=\"24px\"viewBox=\"0 0 24 24\"\n",
              "     width=\"24px\">\n",
              "    <g>\n",
              "        <path d=\"M19 3H5c-1.1 0-2 .9-2 2v14c0 1.1.9 2 2 2h14c1.1 0 2-.9 2-2V5c0-1.1-.9-2-2-2zM9 17H7v-7h2v7zm4 0h-2V7h2v10zm4 0h-2v-4h2v4z\"/>\n",
              "    </g>\n",
              "</svg>\n",
              "  </button>\n",
              "\n",
              "<style>\n",
              "  .colab-df-quickchart {\n",
              "      --bg-color: #E8F0FE;\n",
              "      --fill-color: #1967D2;\n",
              "      --hover-bg-color: #E2EBFA;\n",
              "      --hover-fill-color: #174EA6;\n",
              "      --disabled-fill-color: #AAA;\n",
              "      --disabled-bg-color: #DDD;\n",
              "  }\n",
              "\n",
              "  [theme=dark] .colab-df-quickchart {\n",
              "      --bg-color: #3B4455;\n",
              "      --fill-color: #D2E3FC;\n",
              "      --hover-bg-color: #434B5C;\n",
              "      --hover-fill-color: #FFFFFF;\n",
              "      --disabled-bg-color: #3B4455;\n",
              "      --disabled-fill-color: #666;\n",
              "  }\n",
              "\n",
              "  .colab-df-quickchart {\n",
              "    background-color: var(--bg-color);\n",
              "    border: none;\n",
              "    border-radius: 50%;\n",
              "    cursor: pointer;\n",
              "    display: none;\n",
              "    fill: var(--fill-color);\n",
              "    height: 32px;\n",
              "    padding: 0;\n",
              "    width: 32px;\n",
              "  }\n",
              "\n",
              "  .colab-df-quickchart:hover {\n",
              "    background-color: var(--hover-bg-color);\n",
              "    box-shadow: 0 1px 2px rgba(60, 64, 67, 0.3), 0 1px 3px 1px rgba(60, 64, 67, 0.15);\n",
              "    fill: var(--button-hover-fill-color);\n",
              "  }\n",
              "\n",
              "  .colab-df-quickchart-complete:disabled,\n",
              "  .colab-df-quickchart-complete:disabled:hover {\n",
              "    background-color: var(--disabled-bg-color);\n",
              "    fill: var(--disabled-fill-color);\n",
              "    box-shadow: none;\n",
              "  }\n",
              "\n",
              "  .colab-df-spinner {\n",
              "    border: 2px solid var(--fill-color);\n",
              "    border-color: transparent;\n",
              "    border-bottom-color: var(--fill-color);\n",
              "    animation:\n",
              "      spin 1s steps(1) infinite;\n",
              "  }\n",
              "\n",
              "  @keyframes spin {\n",
              "    0% {\n",
              "      border-color: transparent;\n",
              "      border-bottom-color: var(--fill-color);\n",
              "      border-left-color: var(--fill-color);\n",
              "    }\n",
              "    20% {\n",
              "      border-color: transparent;\n",
              "      border-left-color: var(--fill-color);\n",
              "      border-top-color: var(--fill-color);\n",
              "    }\n",
              "    30% {\n",
              "      border-color: transparent;\n",
              "      border-left-color: var(--fill-color);\n",
              "      border-top-color: var(--fill-color);\n",
              "      border-right-color: var(--fill-color);\n",
              "    }\n",
              "    40% {\n",
              "      border-color: transparent;\n",
              "      border-right-color: var(--fill-color);\n",
              "      border-top-color: var(--fill-color);\n",
              "    }\n",
              "    60% {\n",
              "      border-color: transparent;\n",
              "      border-right-color: var(--fill-color);\n",
              "    }\n",
              "    80% {\n",
              "      border-color: transparent;\n",
              "      border-right-color: var(--fill-color);\n",
              "      border-bottom-color: var(--fill-color);\n",
              "    }\n",
              "    90% {\n",
              "      border-color: transparent;\n",
              "      border-bottom-color: var(--fill-color);\n",
              "    }\n",
              "  }\n",
              "</style>\n",
              "\n",
              "  <script>\n",
              "    async function quickchart(key) {\n",
              "      const quickchartButtonEl =\n",
              "        document.querySelector('#' + key + ' button');\n",
              "      quickchartButtonEl.disabled = true;  // To prevent multiple clicks.\n",
              "      quickchartButtonEl.classList.add('colab-df-spinner');\n",
              "      try {\n",
              "        const charts = await google.colab.kernel.invokeFunction(\n",
              "            'suggestCharts', [key], {});\n",
              "      } catch (error) {\n",
              "        console.error('Error during call to suggestCharts:', error);\n",
              "      }\n",
              "      quickchartButtonEl.classList.remove('colab-df-spinner');\n",
              "      quickchartButtonEl.classList.add('colab-df-quickchart-complete');\n",
              "    }\n",
              "    (() => {\n",
              "      let quickchartButtonEl =\n",
              "        document.querySelector('#df-5952c030-e561-4af2-bc7b-57a79b4da553 button');\n",
              "      quickchartButtonEl.style.display =\n",
              "        google.colab.kernel.accessAllowed ? 'block' : 'none';\n",
              "    })();\n",
              "  </script>\n",
              "</div>\n",
              "    </div>\n",
              "  </div>\n"
            ],
            "application/vnd.google.colaboratory.intrinsic+json": {
              "type": "dataframe",
              "summary": "{\n  \"name\": \"master_drop_null[master_drop_null['suicides/100k'] == min_master]\",\n  \"rows\": 2,\n  \"fields\": [\n    {\n      \"column\": \"country\",\n      \"properties\": {\n        \"dtype\": \"string\",\n        \"num_unique_values\": 1,\n        \"samples\": [\n          \"South Africa\"\n        ],\n        \"semantic_type\": \"\",\n        \"description\": \"\"\n      }\n    },\n    {\n      \"column\": \"year\",\n      \"properties\": {\n        \"dtype\": \"number\",\n        \"std\": 7,\n        \"min\": 2000,\n        \"max\": 2011,\n        \"num_unique_values\": 2,\n        \"samples\": [\n          2011\n        ],\n        \"semantic_type\": \"\",\n        \"description\": \"\"\n      }\n    },\n    {\n      \"column\": \"sex\",\n      \"properties\": {\n        \"dtype\": \"string\",\n        \"num_unique_values\": 2,\n        \"samples\": [\n          \"male\"\n        ],\n        \"semantic_type\": \"\",\n        \"description\": \"\"\n      }\n    },\n    {\n      \"column\": \"age\",\n      \"properties\": {\n        \"dtype\": \"string\",\n        \"num_unique_values\": 1,\n        \"samples\": [\n          \"5-14 years\"\n        ],\n        \"semantic_type\": \"\",\n        \"description\": \"\"\n      }\n    },\n    {\n      \"column\": \"suicides_no\",\n      \"properties\": {\n        \"dtype\": \"number\",\n        \"std\": 0,\n        \"min\": 1,\n        \"max\": 1,\n        \"num_unique_values\": 1,\n        \"samples\": [\n          1\n        ],\n        \"semantic_type\": \"\",\n        \"description\": \"\"\n      }\n    },\n    {\n      \"column\": \"population\",\n      \"properties\": {\n        \"dtype\": \"number\",\n        \"std\": 83567,\n        \"min\": 5079980,\n        \"max\": 5198162,\n        \"num_unique_values\": 2,\n        \"samples\": [\n          5198162\n        ],\n        \"semantic_type\": \"\",\n        \"description\": \"\"\n      }\n    },\n    {\n      \"column\": \"suicides/100k\",\n      \"properties\": {\n        \"dtype\": \"number\",\n        \"std\": 0.0,\n        \"min\": 0.02,\n        \"max\": 0.02,\n        \"num_unique_values\": 1,\n        \"samples\": [\n          0.02\n        ],\n        \"semantic_type\": \"\",\n        \"description\": \"\"\n      }\n    },\n    {\n      \"column\": \"country_year\",\n      \"properties\": {\n        \"dtype\": \"string\",\n        \"num_unique_values\": 2,\n        \"samples\": [\n          \"South Africa2011\"\n        ],\n        \"semantic_type\": \"\",\n        \"description\": \"\"\n      }\n    },\n    {\n      \"column\": \"HDI\",\n      \"properties\": {\n        \"dtype\": \"number\",\n        \"std\": 0.013435028842544414,\n        \"min\": 0.632,\n        \"max\": 0.651,\n        \"num_unique_values\": 2,\n        \"samples\": [\n          0.651\n        ],\n        \"semantic_type\": \"\",\n        \"description\": \"\"\n      }\n    },\n    {\n      \"column\": \"gdp_for_year\",\n      \"properties\": {\n        \"dtype\": \"string\",\n        \"num_unique_values\": 2,\n        \"samples\": [\n          \"416,878,162,441\"\n        ],\n        \"semantic_type\": \"\",\n        \"description\": \"\"\n      }\n    },\n    {\n      \"column\": \"gdp_per_capita\",\n      \"properties\": {\n        \"dtype\": \"number\",\n        \"std\": 3920,\n        \"min\": 3361,\n        \"max\": 8906,\n        \"num_unique_values\": 2,\n        \"samples\": [\n          8906\n        ],\n        \"semantic_type\": \"\",\n        \"description\": \"\"\n      }\n    },\n    {\n      \"column\": \"generation\",\n      \"properties\": {\n        \"dtype\": \"string\",\n        \"num_unique_values\": 2,\n        \"samples\": [\n          \"Generation Z\"\n        ],\n        \"semantic_type\": \"\",\n        \"description\": \"\"\n      }\n    }\n  ]\n}"
            }
          },
          "metadata": {},
          "execution_count": 102
        }
      ],
      "source": [
        "master_drop_null = df[df['suicides/100k'] != 0]\n",
        "min_master = master_drop_null['suicides/100k'].min()\n",
        "\n",
        "master_drop_null[master_drop_null['suicides/100k'] == min_master]\n",
        "\n"
      ]
    },
    {
      "cell_type": "markdown",
      "metadata": {
        "id": "3hTVxdRr2tO4"
      },
      "source": [
        "Результат вывода — две страны, которые соответствуют минимальному значению.\n",
        "На основе полученных данных можно сделать вывод, что число совершенных самоубийств на 100 тыс. населения  находится в диапазоне от 0,02 до 224.97 секунд, не включая пропущенные.\n",
        "\n",
        "Это знание пригодится, чтобы разобраться с медианой и средним арифметическим.\n",
        "\n",
        "Среднее и медиана оценивают значения в центре выборки. Если тех строк, где число с большим количеством самоубийц, столько же, сколько тех, где это число мало — среднее подойдет. Но когда есть оторванные от основной массы лидеры, их результаты сильно смещают значение среднего вверх. Вот почему оценивать в этом случае лучше медианой.\n",
        "\n",
        "![image.png](attachment:image.png)\n",
        "\n",
        "В геометрии медиана делит фигуру на две равные по площади. В статистике она делит выборку пополам: в одной половине значения меньше медианного, в другой больше. Логично, что для определения медианы список обязательно должен быть отсортирован — либо по возрастанию, либо по убыванию.\n",
        "Когда количество значений нечётное, медиана будет равна тому значению, которое оказалось ровно посередине отсортированного набора. Если же количество данных чётное, то медиана рассчитывается как среднее арифметическое двух соседних чисел в середине набора.\n",
        "\n"
      ]
    },
    {
      "cell_type": "markdown",
      "metadata": {
        "id": "1gZsHVmP2tO4"
      },
      "source": [
        "В Pandas есть метод **median()**, который считает медиану. По аналогии с **min()** и **max()** его можно применять ко всей таблице, к отдельному столбцу или к сгруппированным данным. Теперь применим медиану ко всем значениям времени прослушивания в нашей таблице, исключив нулевые:\n",
        "\n"
      ]
    },
    {
      "cell_type": "code",
      "execution_count": 10,
      "metadata": {
        "id": "doOTKsk-2tO4",
        "colab": {
          "base_uri": "https://localhost:8080/"
        },
        "outputId": "d3c89cc5-c279-4d93-eb9f-b1b462ed6f06"
      },
      "outputs": [
        {
          "output_type": "stream",
          "name": "stdout",
          "text": [
            "50773.0\n"
          ]
        }
      ],
      "source": [
        "import pandas as pd\n",
        "\n",
        "def date_conversion(date):\n",
        "  date = date.split(':')\n",
        "  return int(date[0])*3600+int(date[1])*60+int(date[2])\n",
        "\n",
        "yandex = pd.read_csv('yandex_music.csv')\n",
        "new_names = ['user_id', 'track_name', 'artist_name','genre_name','city','time','day']\n",
        "yandex = yandex.set_axis(new_names, axis='columns')\n",
        "yandex['total_play_seconds'] = yandex.apply(lambda row: date_conversion(row['time']), axis=1)\n",
        "\n",
        "print(yandex['total_play_seconds'].median())\n"
      ]
    },
    {
      "cell_type": "markdown",
      "metadata": {
        "id": "taqSGbM02tO4"
      },
      "source": [
        "Чтобы убедиться, что лидеры действительно смещают средний показатель вверх, найдём среднее арифметическое всех этих значений методом mean():"
      ]
    },
    {
      "cell_type": "code",
      "execution_count": 11,
      "metadata": {
        "id": "70LRC8bX2tO4",
        "colab": {
          "base_uri": "https://localhost:8080/"
        },
        "outputId": "8913f0f5-c0db-4174-acc8-499aaccec2cc"
      },
      "outputs": [
        {
          "output_type": "stream",
          "name": "stdout",
          "text": [
            "53363.20877702485\n"
          ]
        }
      ],
      "source": [
        "print(yandex['total_play_seconds'].mean())"
      ]
    },
    {
      "cell_type": "code",
      "execution_count": null,
      "metadata": {
        "id": "tMpwc1RR2tO4"
      },
      "outputs": [],
      "source": []
    }
  ],
  "metadata": {
    "kernelspec": {
      "display_name": "Python 3 (ipykernel)",
      "language": "python",
      "name": "python3"
    },
    "language_info": {
      "codemirror_mode": {
        "name": "ipython",
        "version": 3
      },
      "file_extension": ".py",
      "mimetype": "text/x-python",
      "name": "python",
      "nbconvert_exporter": "python",
      "pygments_lexer": "ipython3",
      "version": "3.9.12"
    },
    "colab": {
      "provenance": [],
      "include_colab_link": true
    }
  },
  "nbformat": 4,
  "nbformat_minor": 0
}