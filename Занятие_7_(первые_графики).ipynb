{
  "cells": [
    {
      "cell_type": "markdown",
      "metadata": {
        "id": "view-in-github",
        "colab_type": "text"
      },
      "source": [
        "<a href=\"https://colab.research.google.com/github/k1kate/labs/blob/main/%D0%97%D0%B0%D0%BD%D1%8F%D1%82%D0%B8%D0%B5_7_(%D0%BF%D0%B5%D1%80%D0%B2%D1%8B%D0%B5_%D0%B3%D1%80%D0%B0%D1%84%D0%B8%D0%BA%D0%B8).ipynb\" target=\"_parent\"><img src=\"https://colab.research.google.com/assets/colab-badge.svg\" alt=\"Open In Colab\"/></a>"
      ]
    },
    {
      "cell_type": "markdown",
      "metadata": {
        "id": "2f_Hj_SvwM6U"
      },
      "source": [
        "# Первые графики и выводы\n",
        "\n",
        "Работа аналитика — не только сами расчёты, но и поиск необычных явлений, артефактов и ошибок в данных. Помогают построение и анализ графиков: визуальное представление позволяет буквально заглянуть в данные, обнаружить проблемы и сделать выводы. Часто неожиданные. Такие непредвиденные открытия могут принести едва ли не больше пользы, чем решение первоначальной задачи.\n",
        "Ваши цели:\n",
        "•\tнаучиться работать с инструментами для построения графиков: **hist(), boxplot(), plot();**\n",
        "\n",
        "•\tнаучиться делать срезы данных;\n",
        "\n",
        "•\tизучить метод **join()** для объединения таблиц и повторить метод **merge()**;\n",
        "\n",
        "•\tразобраться, как определять и интерпретировать взаимосвязи различных данных;\n",
        "\n",
        "•\tнаучиться автоматизировать процесс построения набора графиков.\n",
        "\n",
        "## Знакомство с задачей\n",
        "\n",
        "Как исследовать поведение водителей на заправках? Обратиться к статистике: узнать, на какую именно заправку заезжал водитель и сколько времени там провёл.\n",
        "\n",
        "Ваши коллеги из  собрали необходимые данные и прислали их в таком виде:\n",
        "\n",
        "•\tЗашифрованное наименование сети АЗС (столбец name): вместо брендов — названия растений;\n",
        "\n",
        "•\tУникальный идентификатор конкретной АЗС (столбец id) — в сети их много;\n",
        "\n",
        "•\tВремя заезда на АЗС (столбец date_time) в формате ISO: 20190405T165358 означает, что водитель прибыл на заправку 5 апреля 2019 года в 16 часов 53 минуты 58 секунд по UTC.\n",
        "\n",
        "•\tПроведённое на АЗС время (столбец time_spent) в секундах.\n",
        "\n",
        "Выведем первые строки таблицы методом head():"
      ]
    },
    {
      "cell_type": "code",
      "execution_count": 9,
      "metadata": {
        "colab": {
          "base_uri": "https://localhost:8080/"
        },
        "id": "aMRyQuY-wM6W",
        "outputId": "0844af3d-eca4-47e2-d247-250253232d8c"
      },
      "outputs": [
        {
          "output_type": "stream",
          "name": "stdout",
          "text": [
            "             date_time\\tid\\ttime_spent\\tname\n",
            "0   20180406T165358\\t76144fb2\\t98.0\\tВасилек\n",
            "1   20180404T173913\\t76144fb2\\t15.0\\tВасилек\n",
            "2  20180403T172824\\t76144fb2\\t220.0\\tВасилек\n",
            "3   20180407T070441\\t76144fb2\\t19.0\\tВасилек\n",
            "4   20180404T132049\\t76144fb2\\t14.0\\tВасилек\n",
            "5    20180403T144234\\t76144fb2\\t5.0\\tВасилек\n",
            "6  20180402T082321\\t76144fb2\\t555.0\\tВасилек\n",
            "7  20180407T003408\\t76144fb2\\t286.0\\tВасилек\n",
            "8   20180404T084711\\t76144fb2\\t14.0\\tВасилек\n",
            "9  20180405T131939\\t76144fb2\\t248.0\\tВасилек\n"
          ]
        }
      ],
      "source": [
        "import pandas as pd\n",
        "data = pd.read_csv('visits.csv')\n",
        "print(data.head(10))"
      ]
    },
    {
      "cell_type": "markdown",
      "metadata": {
        "id": "qyg4VO4qwM6X"
      },
      "source": [
        "Вот и первая проблема.\n",
        "\n",
        "Данные склеились в одну строку вместо того, чтобы разбиться по колонкам. Это произошло из-за разделителей в формате **csv**.\n",
        "\n",
        "Напомним, что csv — это Comma-Separated Values, или значения, разделённые запятыми. Действительно, на прошлых занятиях вы работали с таблицами, где строку на колонки делили запятые. Однако вместо них могут быть точки с запятой, знаки табуляции или другие символы. Могут вносить путаницу и десятичные дроби, записанные с запятой.\n",
        "\n",
        "Какими символами разделять колонки и дроби, указывают в параметрах функции **read_csv()**. Разделитель колонок задают параметром **sep** (от англ. separate, «отделять, разделять»), а дробей — параметром **decimal** (англ. «десятичная дробь»):\n",
        "\n",
        "**file = pd.read_csv('file.csv', sep=';', decimal=',')**\n",
        "\n",
        "Прочитайте файл **visits.csv**, указав как разделитель знак табуляции: '\\t', и сохраните результат в датафрейме data. Выведите его первые пять строк.\n"
      ]
    },
    {
      "cell_type": "code",
      "execution_count": 10,
      "metadata": {
        "colab": {
          "base_uri": "https://localhost:8080/"
        },
        "id": "9wN0zxliwM6Y",
        "outputId": "adfe0c9c-4e85-4cbc-bd18-b466a3ca2245"
      },
      "outputs": [
        {
          "output_type": "stream",
          "name": "stdout",
          "text": [
            "         date_time        id time_spent     name\n",
            "0  20180406T165358  76144fb2       98.0  Василек\n",
            "1  20180404T173913  76144fb2       15.0  Василек\n",
            "2  20180403T172824  76144fb2      220.0  Василек\n",
            "3  20180407T070441  76144fb2       19.0  Василек\n",
            "4  20180404T132049  76144fb2       14.0  Василек\n",
            "5  20180403T144234  76144fb2        5.0  Василек\n",
            "6  20180402T082321  76144fb2      555.0  Василек\n",
            "7  20180407T003408  76144fb2      286.0  Василек\n",
            "8  20180404T084711  76144fb2       14.0  Василек\n",
            "9  20180405T131939  76144fb2      248.0  Василек\n"
          ]
        }
      ],
      "source": [
        "\n",
        "file = pd.read_csv('visits.csv', sep='\\t', decimal=',')\n",
        "\n",
        "print(file.head(10))\n",
        "\n",
        "\n"
      ]
    },
    {
      "cell_type": "markdown",
      "metadata": {
        "id": "Q71OUqNJwM6Y"
      },
      "source": [
        "## Сводные таблицы для расчёта среднего\n",
        "\n",
        "Нужно узнать, сколько времени в среднем водители тратят на заправку в каждой сети АЗС. В каждой строке датафрейма есть название сети и время, проведённое на АЗС. Занимаясь предобработкой данных, вы применяли pivot_table() — метод для построения сводных таблиц.\n",
        "\n",
        "Напомним его аргументы:\n",
        "\n",
        "•\t**index** — столбец, значения которого становятся названиями строк (индексом);\n",
        "\n",
        "•\t**columns** — столбец, значения которого становятся названиями столбцов;\n",
        "\n",
        "•\t**values** — значения, по которым вы хотите увидеть сводную таблицу;\n",
        "\n",
        "•\t**aggfunc** — функция, применяемая к значениям.\n",
        "\n",
        "Прежде значением **aggfunc** вы указывали sum, то есть складывали элементы столбца. Если параметр **aggfunc** не указывать, то по умолчанию метод **pivot_table()** рассчитает среднее арифметическое значений, указанных в параметре **values**.\n",
        "\n",
        "Посчитайте среднее время заправки в секундах ('**time_spent**') для каждой из сетей ('**name**'), применяя метод **pivot_table()**. Датафрейм сохраните в переменной **name_stat** и выведите на экран.\n"
      ]
    },
    {
      "cell_type": "code",
      "execution_count": 11,
      "metadata": {
        "colab": {
          "base_uri": "https://localhost:8080/"
        },
        "id": "xSgqRwaiwM6Y",
        "outputId": "53065934-695c-4c2d-c953-7a4d875f8863"
      },
      "outputs": [
        {
          "output_type": "stream",
          "name": "stdout",
          "text": [
            "             time_spent\n",
            "name                   \n",
            "Астильба     484.858491\n",
            "Белоцветник   81.509434\n",
            "Василек      287.511779\n",
            "Георгина     121.199864\n",
            "Календула    104.550274\n",
            "Колокольчик  134.578704\n",
            "Лаватера     223.054455\n",
            "Люпин        194.326271\n",
            "Мальва       217.141531\n",
            "Немезия      184.602294\n"
          ]
        }
      ],
      "source": [
        " #Youre code is here\n",
        "\n",
        "file['time_spent'] = pd.to_numeric(file['time_spent'], errors='coerce')\n",
        "\n",
        "name_stat = pd.pivot_table(file, index='name', values='time_spent')\n",
        "print(name_stat.head(10))"
      ]
    },
    {
      "cell_type": "markdown",
      "metadata": {
        "id": "CezvDsm-wM6Z"
      },
      "source": [
        "Сети АЗС «Нарцисс», «Арктотис» и «Малопа» имеют среднее время заправки около 70 секунд. Неправдоподобно мало.\n",
        "\n",
        "В работе с данными почти всегда вас ждут сюрпризы\n",
        "\n",
        "•\tПочему-то выгрузили не те данные, или не всё, что есть;\n",
        "\n",
        "•\tОшибки в алгоритмах, считающих заезды: скажем, время заправки учли неверно.\n",
        "\n",
        "•\tНе тот формат; например, вместо секунд записали минуты.\n",
        "\n",
        "•\tУпущен какой-нибудь существенный факт. Так, водители могли заехать на нерабочую АЗС (а счётчик их учёл) и развернуться, не заправившись (счётчик зафиксировал очень короткое время).\n",
        "\n",
        "Словом, в данных может быть всё, что угодно. Именно вы как аналитик ручаетесь за их реалистичность. Попробуйте оценить, насколько они достоверны. Начните с базовых проверок. Например, несложно ответить на вопросы:\n",
        "\n",
        "•\tСколько всего заездов зафиксировано за время исследования?\n",
        "\n",
        "•\tСколько АЗС?\n",
        "\n",
        "•\tСколько заездов на одну АЗС в день?\n",
        "\n",
        "•\tКакие сети АЗС самые популярные?\n",
        "\n",
        "... и самостоятельно либо с помощью коллег оценить, похожи ли результаты ваших расчётов на правду.\n",
        "Базовая проверка может обнаружить проблему в данных. Или наоборот — свидетельствовать, что с ними всё в порядке. По крайней мере, пока.\n",
        "\n",
        "**Задача 1**. Сколько было заездов на АЗС? Сохраните число строк датафрейма в переменной **total_visits**. . Результат выведите на экран так:\n",
        "\n",
        "Количество заездов: ...\n"
      ]
    },
    {
      "cell_type": "code",
      "execution_count": 12,
      "metadata": {
        "id": "C_g-tyIAwM6Z",
        "colab": {
          "base_uri": "https://localhost:8080/"
        },
        "outputId": "64b65c10-5572-4107-c89c-b8b00d3355f4"
      },
      "outputs": [
        {
          "output_type": "stream",
          "name": "stdout",
          "text": [
            "total_visits = 21815\n"
          ]
        }
      ],
      "source": [
        "total_visits = file.shape[0]\n",
        "print('Количество заездов =', total_visits)\n"
      ]
    },
    {
      "cell_type": "markdown",
      "metadata": {
        "id": "tM9pm16uwM6Z"
      },
      "source": [
        "**Задача 2**. Найдите количество охваченных исследованием АЗС. Сохраните его в переменной total_stations, результат на экран выведите так:\n",
        "\n",
        "Количество АЗС: ..."
      ]
    },
    {
      "cell_type": "code",
      "execution_count": 13,
      "metadata": {
        "id": "VReJcU8MwM6Z",
        "colab": {
          "base_uri": "https://localhost:8080/"
        },
        "outputId": "5a236dcc-111a-4e3b-a235-2a09619fb542"
      },
      "outputs": [
        {
          "output_type": "stream",
          "name": "stdout",
          "text": [
            "Количество заездов = 14\n"
          ]
        }
      ],
      "source": [
        "#Youre code is here\n",
        "total_stations = name_stat.shape[0]\n",
        "print('Количество заездов =', total_stations)\n"
      ]
    },
    {
      "cell_type": "markdown",
      "metadata": {
        "id": "aaInseorwM6a"
      },
      "source": [
        "**Задача 3**\n",
        "\n",
        "Выведите на экран дату и время первого и последнего заезда на АЗС через пробел. Без объявления новых переменных, примените методы **min()** и **max()** к значениям столбца **data['date_time']** в аргументе функции **print()**.\n",
        "Вывод должен выглядеть так: 20180402T000008 20180408T235957.\n"
      ]
    },
    {
      "cell_type": "code",
      "execution_count": 24,
      "metadata": {
        "id": "kFNt0YhiwM6a",
        "colab": {
          "base_uri": "https://localhost:8080/"
        },
        "outputId": "e832a75a-724c-4bd5-a088-9da0a3483b86"
      },
      "outputs": [
        {
          "output_type": "stream",
          "name": "stdout",
          "text": [
            "20180402T000020 20180408T235648\n"
          ]
        }
      ],
      "source": [
        "#Youre code is here\n",
        "# file = file[file['date_time']!='2']\n",
        "print(file['date_time'].min(), file['date_time'].max())\n",
        "# print(file.sort_values(by=['date_time'], ascending=False))\n",
        "\n"
      ]
    },
    {
      "cell_type": "markdown",
      "metadata": {
        "id": "WmT9IIWVwM6a"
      },
      "source": [
        "**Задача 4**\n",
        "Данные собраны за 7 дней — сохраните это значение в переменной **total_days**.\n",
        "Найдите среднее число заездов на одну АЗС за 1 день. Сохраните результат вычислений в переменной **station_visits_per_day** и выведите её на экран в следующем виде:\n",
        "\n",
        "Количество заездов на АЗС в сутки: ...\n"
      ]
    },
    {
      "cell_type": "code",
      "execution_count": 28,
      "metadata": {
        "id": "0Q5HIbuSwM6a",
        "colab": {
          "base_uri": "https://localhost:8080/"
        },
        "outputId": "8afdd4d7-af79-47fc-ec30-cf4020c2e32c"
      },
      "outputs": [
        {
          "output_type": "stream",
          "name": "stdout",
          "text": [
            "1558.142857142857\n"
          ]
        }
      ],
      "source": [
        "#Youre code is here\n",
        "total_days = file.groupby('name')['name'].count()\n",
        "station_visits_per_day = total_days.mean()\n",
        "print(station_visits_per_day)"
      ]
    },
    {
      "cell_type": "markdown",
      "metadata": {
        "id": "lMW89abuwM6a"
      },
      "source": [
        "**Задача 5**\n",
        "\n",
        "Проверьте распределение числа заездов по сетям АЗС. Распечатайте топ-10 сетей с наибольшим числом заездов, используя метод **sort_values**. В каждой строке должно быть название сети и число заездов.\n",
        "Результат выведите в функции print().\n"
      ]
    },
    {
      "cell_type": "code",
      "execution_count": 32,
      "metadata": {
        "id": "mZdQ6oOAwM6a",
        "colab": {
          "base_uri": "https://localhost:8080/"
        },
        "outputId": "a8f10e24-312d-4ae3-ec78-430586ea337a"
      },
      "outputs": [
        {
          "output_type": "stream",
          "name": "stdout",
          "text": [
            "name\n",
            "Георгина       8796\n",
            "Василек        5858\n",
            "Календула      3282\n",
            "Колокольчик    1512\n",
            "Немезия         523\n",
            "Мальва          431\n",
            "Люпин           236\n",
            "Роза            223\n",
            "Лаватера        202\n",
            "Функия          190\n",
            "Name: name, dtype: int64\n"
          ]
        }
      ],
      "source": [
        " #Youre code is here\n",
        "print(total_days.sort_values(ascending=False).head(10))\n"
      ]
    },
    {
      "cell_type": "markdown",
      "metadata": {
        "id": "lsBEceuFwM6b"
      },
      "source": [
        "# Гистограмма\n",
        "На первый взгляд, данные выглядят корректно.\n",
        "\n",
        "Однако есть гипотеза, что продолжительность заправки посчитана неверно: в некоторых сетях это время выглядит неправдоподобно маленьким. Напомним, вы считали среднее арифметическое. Оно не означает, что столько времени заправляются все водители: кто-то больше, кто-то меньше. Как представить себе значения, из которых рассчитано среднее, если в таблице тысячи строк? Не просматривать же каждую. Для ответа на этот вопрос строят гистограмму.\n",
        "\n",
        "Гистограмма — это график, который показывает, как часто в наборе данных встречается то или иное значение. Гистограмма объединяет числовые значения по диапазонам, то есть считает частоту значений в пределах каждого интервала.\n",
        "\n",
        "\n",
        "В Pandas гистограмму строит специальный метод **hist()** (от англ. histogram — «гистограмма»). Применять его можно к списку или к столбцу датафрейма: во втором случае название столбца передаётся в параметре. Метод **hist()** находит в наборе чисел минимальное и максимальное значения, а полученный диапазон делит на области или корзины. Затем **hist()** считает, сколько значений попало в каждую корзину, и отображает это на графике.\n",
        "Параметр **bins** (англ. «корзины, вёдра») определяет, на сколько областей делить диапазон данных. По умолчанию таких «корзин» 10.\n",
        "\n",
        "Построим гистограмму, отображающую количество шаров в боулинге. Допустим, у нас по одному шару каждого номера от 6 до 16:\n"
      ]
    },
    {
      "cell_type": "code",
      "execution_count": 33,
      "metadata": {
        "id": "lNViadQOwM6b",
        "outputId": "e75dd3f4-870c-42b3-e161-25b2fb0931c1",
        "colab": {
          "base_uri": "https://localhost:8080/",
          "height": 447
        }
      },
      "outputs": [
        {
          "output_type": "execute_result",
          "data": {
            "text/plain": [
              "<Axes: >"
            ]
          },
          "metadata": {},
          "execution_count": 33
        },
        {
          "output_type": "display_data",
          "data": {
            "text/plain": [
              "<Figure size 640x480 with 1 Axes>"
            ],
            "image/png": "[encoded data removed]"
          },
          "metadata": {}
        }
      ],
      "source": [
        "# строим гистограмму\n",
        "pd.Series([6, 7, 8, 9, 10, 11, 12, 13, 14, 15, 16]).hist()\n"
      ]
    },
    {
      "cell_type": "markdown",
      "metadata": {
        "id": "JFSsAzwQwM6b"
      },
      "source": [
        "Хотя на каждый номер приходится 1 шар, гистограмма не похожа на прямоугольник. Это потому, что по умолчанию параметр **bins=10**, а шаров 11. Передадим соответствующее число корзин и взглянем на полученный график:"
      ]
    },
    {
      "cell_type": "code",
      "execution_count": 34,
      "metadata": {
        "id": "Jr_LqZ85wM6b",
        "outputId": "c44a5aaa-76dd-40ea-babe-ed11290ac2b8",
        "colab": {
          "base_uri": "https://localhost:8080/",
          "height": 447
        }
      },
      "outputs": [
        {
          "output_type": "execute_result",
          "data": {
            "text/plain": [
              "<Axes: >"
            ]
          },
          "metadata": {},
          "execution_count": 34
        },
        {
          "output_type": "display_data",
          "data": {
            "text/plain": [
              "<Figure size 640x480 with 1 Axes>"
            ],
            "image/png": "[encoded data removed]"
          },
          "metadata": {}
        }
      ],
      "source": [
        "pd.Series([6, 7, 8, 9, 10, 11, 12, 13, 14, 15, 16]).hist(bins=11)"
      ]
    },
    {
      "cell_type": "markdown",
      "metadata": {
        "id": "_f1gj8jWwM6c"
      },
      "source": [
        "Теперь гистограмма соответствует действительности. Что если количество шаров с разными номерами изменится? Скажем, будет два шара под номером 8 и ни одной «семёрки»?"
      ]
    },
    {
      "cell_type": "code",
      "execution_count": 35,
      "metadata": {
        "id": "6OOzZPHkwM6c",
        "outputId": "146d01c7-8b9b-4910-b5ee-3c7e1b35a38e",
        "colab": {
          "base_uri": "https://localhost:8080/",
          "height": 447
        }
      },
      "outputs": [
        {
          "output_type": "execute_result",
          "data": {
            "text/plain": [
              "<Axes: >"
            ]
          },
          "metadata": {},
          "execution_count": 35
        },
        {
          "output_type": "display_data",
          "data": {
            "text/plain": [
              "<Figure size 640x480 with 1 Axes>"
            ],
            "image/png": "[encoded data removed]"
          },
          "metadata": {}
        }
      ],
      "source": [
        "pd.Series([6, 8, 8, 9, 10, 11, 12, 13, 14, 15, 16]).hist(bins=11)"
      ]
    },
    {
      "cell_type": "markdown",
      "metadata": {
        "id": "lu00JLknwM6c"
      },
      "source": [
        "Провал там, где должно быть значение 7. Частота появления восьмёрки увеличилась вдвое. График выглядит правдоподобно.\n",
        "Что произойдёт, если в данных шестнадцатый шар вдруг станет шаром под номером 100, а пятнадцатый пропадёт вовсе?"
      ]
    },
    {
      "cell_type": "code",
      "execution_count": 36,
      "metadata": {
        "id": "T7l0Q1HlwM6c",
        "outputId": "3acfe2ab-e144-4297-a100-17dd2cb32302",
        "colab": {
          "base_uri": "https://localhost:8080/",
          "height": 447
        }
      },
      "outputs": [
        {
          "output_type": "execute_result",
          "data": {
            "text/plain": [
              "<Axes: >"
            ]
          },
          "metadata": {},
          "execution_count": 36
        },
        {
          "output_type": "display_data",
          "data": {
            "text/plain": [
              "<Figure size 640x480 with 1 Axes>"
            ],
            "image/png": "[encoded data removed]"
          },
          "metadata": {}
        }
      ],
      "source": [
        "pd.Series([6, 8, 8, 9, 10, 11, 12, 13, 14, 100]).hist() # убрали параметр bins, так как шаров стало 10"
      ]
    },
    {
      "cell_type": "markdown",
      "metadata": {
        "id": "7Ew45t2zwM6c"
      },
      "source": [
        "9 шаров со значениями в диапазоне от 5 до 15 и 1 шар с номером от 90 до 100. При таком изображении не видно тонких особенностей распределения значений в диапазоне от 5 до 15 — того, что в нём нет семёрки, а восьмёрок пара.\n",
        "Вернём детальность, увеличив число корзин до 100.\n"
      ]
    },
    {
      "cell_type": "code",
      "execution_count": 37,
      "metadata": {
        "id": "lEl8AB2_wM6d",
        "outputId": "7e21791f-1eda-4d8f-dc30-a2eacdd485be",
        "colab": {
          "base_uri": "https://localhost:8080/",
          "height": 447
        }
      },
      "outputs": [
        {
          "output_type": "execute_result",
          "data": {
            "text/plain": [
              "<Axes: >"
            ]
          },
          "metadata": {},
          "execution_count": 37
        },
        {
          "output_type": "display_data",
          "data": {
            "text/plain": [
              "<Figure size 640x480 with 1 Axes>"
            ],
            "image/png": "[encoded data removed]"
          },
          "metadata": {}
        }
      ],
      "source": [
        "pd.Series([6, 8, 8, 9, 10, 11, 12, 13, 14, 100]).hist(bins=100)"
      ]
    },
    {
      "cell_type": "markdown",
      "metadata": {
        "id": "A5phk2JbwM6d"
      },
      "source": [
        "На этом графике видно, что восьмёрка удвоена, а семёрка не встречается вовсе. Увеличив число корзин, мы вернули детализацию, однако гистограмма всё ещё не наглядна. 100 слишком похоже на выброс — значение, сильно отличающееся от других элементов в наборе данных.\n",
        "Изменим масштаб вручную, указав диапазон значений, по которым следует строить график. Границы интересующего нас интервала указывают в параметре range (англ. «диапазон»): **range=(min_value, max_value)**. Нам нужна область от 6 до 14:\n"
      ]
    },
    {
      "cell_type": "code",
      "execution_count": 38,
      "metadata": {
        "id": "tl38gjsrwM6d",
        "outputId": "254ad6d0-8804-420f-d8a2-7027183670e4",
        "colab": {
          "base_uri": "https://localhost:8080/",
          "height": 447
        }
      },
      "outputs": [
        {
          "output_type": "execute_result",
          "data": {
            "text/plain": [
              "<Axes: >"
            ]
          },
          "metadata": {},
          "execution_count": 38
        },
        {
          "output_type": "display_data",
          "data": {
            "text/plain": [
              "<Figure size 640x480 with 1 Axes>"
            ],
            "image/png": "[encoded data removed]"
          },
          "metadata": {}
        }
      ],
      "source": [
        "pd.Series([6, 8, 8, 9, 10, 11, 12, 13, 14, 100]).hist(range = (6, 14))"
      ]
    },
    {
      "cell_type": "markdown",
      "metadata": {
        "id": "56BU1bkSwM6d"
      },
      "source": [
        "Гистограмма даёт представление о структуре данных. В частности, по ней можно понять, откуда взялось такое среднее арифметическое.\n",
        "Вот 2 ряда по 10 чисел: их гистограммы очень разные, а среднее у обеих 5."
      ]
    },
    {
      "cell_type": "code",
      "execution_count": 39,
      "metadata": {
        "id": "UhgHM0j3wM6d",
        "outputId": "97934774-a048-49a1-9ca4-ec683ce24095",
        "colab": {
          "base_uri": "https://localhost:8080/",
          "height": 447
        }
      },
      "outputs": [
        {
          "output_type": "execute_result",
          "data": {
            "text/plain": [
              "<Axes: >"
            ]
          },
          "metadata": {},
          "execution_count": 39
        },
        {
          "output_type": "display_data",
          "data": {
            "text/plain": [
              "<Figure size 640x480 with 1 Axes>"
            ],
            "image/png": "[encoded data removed]"
          },
          "metadata": {}
        }
      ],
      "source": [
        "pd.Series([0, 0, 0, 0, 0, 10, 10, 10, 10, 10]).hist(range=(0, 10))"
      ]
    },
    {
      "cell_type": "code",
      "execution_count": 40,
      "metadata": {
        "id": "V0CZjNcwwM6e",
        "outputId": "163cb356-87a9-4a6e-e9ad-e3d3ee294404",
        "colab": {
          "base_uri": "https://localhost:8080/",
          "height": 447
        }
      },
      "outputs": [
        {
          "output_type": "execute_result",
          "data": {
            "text/plain": [
              "<Axes: >"
            ]
          },
          "metadata": {},
          "execution_count": 40
        },
        {
          "output_type": "display_data",
          "data": {
            "text/plain": [
              "<Figure size 640x480 with 1 Axes>"
            ],
            "image/png": "[encoded data removed]"
          },
          "metadata": {}
        }
      ],
      "source": [
        "pd.Series([4, 5, 5, 5, 5, 5, 5, 5, 5, 5, 6]).hist(range=(0, 10))"
      ]
    },
    {
      "cell_type": "markdown",
      "metadata": {
        "id": "ng8gednEwM6f"
      },
      "source": [
        "Если бы мы смотрели только на среднее значение этих наборов данных, то сказали бы, что они очень похожи. Однако описывающие их гистограммы дают понять, что это два очень разных явления.\n",
        "Пора применить гистограмму к реальной задаче. Напомним, что средняя продолжительность заправки выглядит неправдоподобно малой.\n",
        "\n",
        "**Задача 1**.\n",
        "Выведите гистограмму значений времени, проведённого на АЗС (столбец data['time_spent'])."
      ]
    },
    {
      "cell_type": "code",
      "execution_count": 44,
      "metadata": {
        "id": "u7IUtk--wM6g",
        "colab": {
          "base_uri": "https://localhost:8080/",
          "height": 447
        },
        "outputId": "14c93e8a-7c6a-43f7-a331-8bd8bfbcab2e"
      },
      "outputs": [
        {
          "output_type": "execute_result",
          "data": {
            "text/plain": [
              "<Axes: >"
            ]
          },
          "metadata": {},
          "execution_count": 44
        },
        {
          "output_type": "display_data",
          "data": {
            "text/plain": [
              "<Figure size 640x480 with 1 Axes>"
            ],
            "image/png": "[encoded data removed]"
          },
          "metadata": {}
        }
      ],
      "source": [
        "#Youre code is here\n",
        "file['time_spent'].hist()"
      ]
    },
    {
      "cell_type": "markdown",
      "metadata": {
        "id": "GMZYiLAOwM6g"
      },
      "source": [
        "**Задача 2**\n",
        "Выведите гистограмму значений времени, проведённого на АЗС, с увеличенным до 100 числом столбцов"
      ]
    },
    {
      "cell_type": "code",
      "execution_count": 45,
      "metadata": {
        "id": "6--_SKLPwM6g",
        "colab": {
          "base_uri": "https://localhost:8080/",
          "height": 447
        },
        "outputId": "d5690cea-3c25-48ad-9796-6bb86fea662d"
      },
      "outputs": [
        {
          "output_type": "execute_result",
          "data": {
            "text/plain": [
              "<Axes: >"
            ]
          },
          "metadata": {},
          "execution_count": 45
        },
        {
          "output_type": "display_data",
          "data": {
            "text/plain": [
              "<Figure size 640x480 with 1 Axes>"
            ],
            "image/png": "[encoded data removed]"
          },
          "metadata": {}
        }
      ],
      "source": [
        "#Youre code is here\n",
        "file['time_spent'].hist(bins=100)"
      ]
    },
    {
      "cell_type": "markdown",
      "metadata": {
        "id": "1Fm1Omt6wM6g"
      },
      "source": [
        "**Задача 3**\n",
        "Выведите гистограмму значений времени, проведённого на АЗС, с увеличенным до 100 числом столбцов и диапазоном значений от 0 до 1500."
      ]
    },
    {
      "cell_type": "code",
      "execution_count": 46,
      "metadata": {
        "id": "cmLW-76_wM6g",
        "colab": {
          "base_uri": "https://localhost:8080/",
          "height": 447
        },
        "outputId": "cb3cb6d8-7f71-43cb-d68e-0271ca4c8ad9"
      },
      "outputs": [
        {
          "output_type": "execute_result",
          "data": {
            "text/plain": [
              "<Axes: >"
            ]
          },
          "metadata": {},
          "execution_count": 46
        },
        {
          "output_type": "display_data",
          "data": {
            "text/plain": [
              "<Figure size 640x480 with 1 Axes>"
            ],
            "image/png": "[encoded data removed]"
          },
          "metadata": {}
        }
      ],
      "source": [
        "#Youre code is here\n",
        "file['time_spent'].hist(bins=100, range=(0, 1500))"
      ]
    },
    {
      "cell_type": "markdown",
      "metadata": {
        "id": "e0G6CSlTwM6g"
      },
      "source": [
        "Ожидаемое распределение времени заправки — гистограмма с длинным хвостом на высоких значениях и падением в ноль слева от пика, не доходя до нулевого времени заправки. Однако на графике виден высокий пик около 0. Скорее всего, он имеет иную природу. Это не заправки, а ошибки расчётов, проезды сквозь АЗС или что-то ещё."
      ]
    },
    {
      "cell_type": "code",
      "execution_count": null,
      "metadata": {
        "id": "zjTGkeXJwM6h"
      },
      "outputs": [],
      "source": []
    }
  ],
  "metadata": {
    "kernelspec": {
      "display_name": "Python 3 (ipykernel)",
      "language": "python",
      "name": "python3"
    },
    "language_info": {
      "codemirror_mode": {
        "name": "ipython",
        "version": 3
      },
      "file_extension": ".py",
      "mimetype": "text/x-python",
      "name": "python",
      "nbconvert_exporter": "python",
      "pygments_lexer": "ipython3",
      "version": "3.9.12"
    },
    "colab": {
      "provenance": [],
      "include_colab_link": true
    }
  },
  "nbformat": 4,
  "nbformat_minor": 0
}